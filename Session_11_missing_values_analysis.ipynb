{
 "cells": [
  {
   "cell_type": "code",
   "execution_count": 2,
   "id": "b3ad1668-3d10-496a-a339-3c16b80f81e6",
   "metadata": {},
   "outputs": [],
   "source": [
    "import pandas as pd\n",
    "import numpy as np\n",
    "import matplotlib.pyplot as plt"
   ]
  },
  {
   "cell_type": "code",
   "execution_count": 4,
   "id": "6e3f0fcd-00c5-4651-99ad-50aca559b799",
   "metadata": {},
   "outputs": [
    {
     "data": {
      "text/plain": [
       "{'Names': ['Yashwant', 'Mokshita', nan, 'Madhuri', 'Tanisha'],\n",
       " 'Age': [nan, 14, 13, 17, 11],\n",
       " 'City': ['Delhi', 'Blr', 'Pune', 'Glr', nan]}"
      ]
     },
     "execution_count": 4,
     "metadata": {},
     "output_type": "execute_result"
    }
   ],
   "source": [
    "dict1={'Names':['Yashwant','Mokshita',np.nan,'Madhuri','Tanisha'],\n",
    "        'Age':[np.nan,14,13,17,11],\n",
    "        'City':['Delhi','Blr','Pune','Glr',np.nan]}\n",
    "dict1"
   ]
  },
  {
   "cell_type": "code",
   "execution_count": 5,
   "id": "e5631bff-5d3d-4cdd-b2a0-1d38b5f33526",
   "metadata": {},
   "outputs": [
    {
     "data": {
      "text/html": [
       "<div>\n",
       "<style scoped>\n",
       "    .dataframe tbody tr th:only-of-type {\n",
       "        vertical-align: middle;\n",
       "    }\n",
       "\n",
       "    .dataframe tbody tr th {\n",
       "        vertical-align: top;\n",
       "    }\n",
       "\n",
       "    .dataframe thead th {\n",
       "        text-align: right;\n",
       "    }\n",
       "</style>\n",
       "<table border=\"1\" class=\"dataframe\">\n",
       "  <thead>\n",
       "    <tr style=\"text-align: right;\">\n",
       "      <th></th>\n",
       "      <th>Names</th>\n",
       "      <th>Age</th>\n",
       "      <th>City</th>\n",
       "    </tr>\n",
       "  </thead>\n",
       "  <tbody>\n",
       "    <tr>\n",
       "      <th>0</th>\n",
       "      <td>Yashwant</td>\n",
       "      <td>NaN</td>\n",
       "      <td>Delhi</td>\n",
       "    </tr>\n",
       "    <tr>\n",
       "      <th>1</th>\n",
       "      <td>Mokshita</td>\n",
       "      <td>14.0</td>\n",
       "      <td>Blr</td>\n",
       "    </tr>\n",
       "    <tr>\n",
       "      <th>2</th>\n",
       "      <td>NaN</td>\n",
       "      <td>13.0</td>\n",
       "      <td>Pune</td>\n",
       "    </tr>\n",
       "    <tr>\n",
       "      <th>3</th>\n",
       "      <td>Madhuri</td>\n",
       "      <td>17.0</td>\n",
       "      <td>Glr</td>\n",
       "    </tr>\n",
       "    <tr>\n",
       "      <th>4</th>\n",
       "      <td>Tanisha</td>\n",
       "      <td>11.0</td>\n",
       "      <td>NaN</td>\n",
       "    </tr>\n",
       "  </tbody>\n",
       "</table>\n",
       "</div>"
      ],
      "text/plain": [
       "      Names   Age   City\n",
       "0  Yashwant   NaN  Delhi\n",
       "1  Mokshita  14.0    Blr\n",
       "2       NaN  13.0   Pune\n",
       "3   Madhuri  17.0    Glr\n",
       "4   Tanisha  11.0    NaN"
      ]
     },
     "execution_count": 5,
     "metadata": {},
     "output_type": "execute_result"
    }
   ],
   "source": [
    "pd.DataFrame(dict1)"
   ]
  },
  {
   "cell_type": "code",
   "execution_count": 6,
   "id": "15bab45e-ca3e-49c4-8900-0d73b9d01c73",
   "metadata": {},
   "outputs": [],
   "source": [
    "d1=pd.DataFrame(dict1)"
   ]
  },
  {
   "cell_type": "code",
   "execution_count": 7,
   "id": "1df10829-7946-4f71-950f-2823f13a1863",
   "metadata": {},
   "outputs": [
    {
     "data": {
      "text/plain": [
       "Names     object\n",
       "Age      float64\n",
       "City      object\n",
       "dtype: object"
      ]
     },
     "execution_count": 7,
     "metadata": {},
     "output_type": "execute_result"
    }
   ],
   "source": [
    "d1.dtypes"
   ]
  },
  {
   "cell_type": "code",
   "execution_count": 9,
   "id": "1744b388-5c81-48ae-a0e8-7e2df280796e",
   "metadata": {},
   "outputs": [
    {
     "data": {
      "text/html": [
       "<div>\n",
       "<style scoped>\n",
       "    .dataframe tbody tr th:only-of-type {\n",
       "        vertical-align: middle;\n",
       "    }\n",
       "\n",
       "    .dataframe tbody tr th {\n",
       "        vertical-align: top;\n",
       "    }\n",
       "\n",
       "    .dataframe thead th {\n",
       "        text-align: right;\n",
       "    }\n",
       "</style>\n",
       "<table border=\"1\" class=\"dataframe\">\n",
       "  <thead>\n",
       "    <tr style=\"text-align: right;\">\n",
       "      <th></th>\n",
       "      <th>Names</th>\n",
       "      <th>Age</th>\n",
       "      <th>City</th>\n",
       "    </tr>\n",
       "  </thead>\n",
       "  <tbody>\n",
       "    <tr>\n",
       "      <th>0</th>\n",
       "      <td>Yashwant</td>\n",
       "      <td>NaN</td>\n",
       "      <td>Delhi</td>\n",
       "    </tr>\n",
       "    <tr>\n",
       "      <th>1</th>\n",
       "      <td>Mokshita</td>\n",
       "      <td>14.0</td>\n",
       "      <td>Blr</td>\n",
       "    </tr>\n",
       "    <tr>\n",
       "      <th>2</th>\n",
       "      <td>None</td>\n",
       "      <td>13.0</td>\n",
       "      <td>Pune</td>\n",
       "    </tr>\n",
       "    <tr>\n",
       "      <th>3</th>\n",
       "      <td>Madhuri</td>\n",
       "      <td>17.0</td>\n",
       "      <td>Glr</td>\n",
       "    </tr>\n",
       "    <tr>\n",
       "      <th>4</th>\n",
       "      <td>Tanisha</td>\n",
       "      <td>11.0</td>\n",
       "      <td>None</td>\n",
       "    </tr>\n",
       "  </tbody>\n",
       "</table>\n",
       "</div>"
      ],
      "text/plain": [
       "      Names   Age   City\n",
       "0  Yashwant   NaN  Delhi\n",
       "1  Mokshita  14.0    Blr\n",
       "2      None  13.0   Pune\n",
       "3   Madhuri  17.0    Glr\n",
       "4   Tanisha  11.0   None"
      ]
     },
     "execution_count": 9,
     "metadata": {},
     "output_type": "execute_result"
    }
   ],
   "source": [
    "dict2={'Names':['Yashwant','Mokshita',None,'Madhuri','Tanisha'],\n",
    "        'Age':[np.nan,14,13,17,11],\n",
    "        'City':['Delhi','Blr','Pune','Glr',None]}\n",
    "pd.DataFrame(dict2)"
   ]
  },
  {
   "cell_type": "code",
   "execution_count": 10,
   "id": "c788a14a-db71-4ed1-95c3-e4966a2281b3",
   "metadata": {},
   "outputs": [
    {
     "data": {
      "text/html": [
       "<div>\n",
       "<style scoped>\n",
       "    .dataframe tbody tr th:only-of-type {\n",
       "        vertical-align: middle;\n",
       "    }\n",
       "\n",
       "    .dataframe tbody tr th {\n",
       "        vertical-align: top;\n",
       "    }\n",
       "\n",
       "    .dataframe thead th {\n",
       "        text-align: right;\n",
       "    }\n",
       "</style>\n",
       "<table border=\"1\" class=\"dataframe\">\n",
       "  <thead>\n",
       "    <tr style=\"text-align: right;\">\n",
       "      <th></th>\n",
       "      <th>Names</th>\n",
       "      <th>Age</th>\n",
       "      <th>City</th>\n",
       "    </tr>\n",
       "  </thead>\n",
       "  <tbody>\n",
       "    <tr>\n",
       "      <th>0</th>\n",
       "      <td>False</td>\n",
       "      <td>True</td>\n",
       "      <td>False</td>\n",
       "    </tr>\n",
       "    <tr>\n",
       "      <th>1</th>\n",
       "      <td>False</td>\n",
       "      <td>False</td>\n",
       "      <td>False</td>\n",
       "    </tr>\n",
       "    <tr>\n",
       "      <th>2</th>\n",
       "      <td>True</td>\n",
       "      <td>False</td>\n",
       "      <td>False</td>\n",
       "    </tr>\n",
       "    <tr>\n",
       "      <th>3</th>\n",
       "      <td>False</td>\n",
       "      <td>False</td>\n",
       "      <td>False</td>\n",
       "    </tr>\n",
       "    <tr>\n",
       "      <th>4</th>\n",
       "      <td>False</td>\n",
       "      <td>False</td>\n",
       "      <td>True</td>\n",
       "    </tr>\n",
       "  </tbody>\n",
       "</table>\n",
       "</div>"
      ],
      "text/plain": [
       "   Names    Age   City\n",
       "0  False   True  False\n",
       "1  False  False  False\n",
       "2   True  False  False\n",
       "3  False  False  False\n",
       "4  False  False   True"
      ]
     },
     "execution_count": 10,
     "metadata": {},
     "output_type": "execute_result"
    }
   ],
   "source": [
    "d1.isnull()"
   ]
  },
  {
   "cell_type": "code",
   "execution_count": 11,
   "id": "42bea999-1edd-4991-a41c-c6ae6916535d",
   "metadata": {},
   "outputs": [
    {
     "data": {
      "text/plain": [
       "Names    1\n",
       "Age      1\n",
       "City     1\n",
       "dtype: int64"
      ]
     },
     "execution_count": 11,
     "metadata": {},
     "output_type": "execute_result"
    }
   ],
   "source": [
    "d1.isnull().sum()"
   ]
  },
  {
   "cell_type": "code",
   "execution_count": 12,
   "id": "ef2178b5-6cc4-40e4-a643-eab515cb965b",
   "metadata": {},
   "outputs": [
    {
     "data": {
      "text/plain": [
       "Names    20.0\n",
       "Age      20.0\n",
       "City     20.0\n",
       "dtype: float64"
      ]
     },
     "execution_count": 12,
     "metadata": {},
     "output_type": "execute_result"
    }
   ],
   "source": [
    "d1.isnull().sum()*100/len(d1)"
   ]
  },
  {
   "cell_type": "markdown",
   "id": "bd0ef80c-6a4a-4ad7-9999-2a4cde28396d",
   "metadata": {},
   "source": [
    "- np.nan: not a number this applicable for numerical columns only"
   ]
  },
  {
   "cell_type": "markdown",
   "id": "487d3ab7-a23f-460a-8e2f-a56944bb35cd",
   "metadata": {},
   "source": [
    "- Generally data has some empty rows\n",
    "\n",
    "- It is a data problem\n",
    "\n",
    "- If you read that kind of data you will see null\n",
    "\n",
    "- You need to understand it is a data corrupted or really Null values are there"
   ]
  },
  {
   "cell_type": "markdown",
   "id": "96a101a2-9a7c-4e97-b929-1ea9a9f06ad6",
   "metadata": {},
   "source": [
    "**Method-1**\n",
    "\n",
    "**Fill with some random values**\n",
    "\n",
    "**Method name**: fill na"
   ]
  },
  {
   "cell_type": "code",
   "execution_count": 13,
   "id": "51294ccf-9c12-4e85-8da4-25bc98212f53",
   "metadata": {},
   "outputs": [
    {
     "data": {
      "text/html": [
       "<div>\n",
       "<style scoped>\n",
       "    .dataframe tbody tr th:only-of-type {\n",
       "        vertical-align: middle;\n",
       "    }\n",
       "\n",
       "    .dataframe tbody tr th {\n",
       "        vertical-align: top;\n",
       "    }\n",
       "\n",
       "    .dataframe thead th {\n",
       "        text-align: right;\n",
       "    }\n",
       "</style>\n",
       "<table border=\"1\" class=\"dataframe\">\n",
       "  <thead>\n",
       "    <tr style=\"text-align: right;\">\n",
       "      <th></th>\n",
       "      <th>Names</th>\n",
       "      <th>Age</th>\n",
       "      <th>City</th>\n",
       "    </tr>\n",
       "  </thead>\n",
       "  <tbody>\n",
       "    <tr>\n",
       "      <th>0</th>\n",
       "      <td>Yashwant</td>\n",
       "      <td>40.0</td>\n",
       "      <td>Delhi</td>\n",
       "    </tr>\n",
       "    <tr>\n",
       "      <th>1</th>\n",
       "      <td>Mokshita</td>\n",
       "      <td>14.0</td>\n",
       "      <td>Blr</td>\n",
       "    </tr>\n",
       "    <tr>\n",
       "      <th>2</th>\n",
       "      <td>40</td>\n",
       "      <td>13.0</td>\n",
       "      <td>Pune</td>\n",
       "    </tr>\n",
       "    <tr>\n",
       "      <th>3</th>\n",
       "      <td>Madhuri</td>\n",
       "      <td>17.0</td>\n",
       "      <td>Glr</td>\n",
       "    </tr>\n",
       "    <tr>\n",
       "      <th>4</th>\n",
       "      <td>Tanisha</td>\n",
       "      <td>11.0</td>\n",
       "      <td>40</td>\n",
       "    </tr>\n",
       "  </tbody>\n",
       "</table>\n",
       "</div>"
      ],
      "text/plain": [
       "      Names   Age   City\n",
       "0  Yashwant  40.0  Delhi\n",
       "1  Mokshita  14.0    Blr\n",
       "2        40  13.0   Pune\n",
       "3   Madhuri  17.0    Glr\n",
       "4   Tanisha  11.0     40"
      ]
     },
     "execution_count": 13,
     "metadata": {},
     "output_type": "execute_result"
    }
   ],
   "source": [
    "d1.fillna(40)"
   ]
  },
  {
   "cell_type": "markdown",
   "id": "b41c4a71-3712-4344-9297-81a66ed01213",
   "metadata": {},
   "source": [
    "**Method-2**\n",
    "\n",
    "- We can fill the values w.r.t. columns also"
   ]
  },
  {
   "cell_type": "code",
   "execution_count": 17,
   "id": "1d08950b-5bb8-4a97-bacc-b787cd77da01",
   "metadata": {},
   "outputs": [
    {
     "data": {
      "text/plain": [
       "0    40.0\n",
       "1    14.0\n",
       "2    13.0\n",
       "3    17.0\n",
       "4    11.0\n",
       "Name: Age, dtype: float64"
      ]
     },
     "execution_count": 17,
     "metadata": {},
     "output_type": "execute_result"
    }
   ],
   "source": [
    "d1['Age'].fillna(40)\n",
    "\n",
    "# it is not updated\n",
    "# inplace= False"
   ]
  },
  {
   "cell_type": "code",
   "execution_count": 16,
   "id": "b15dbd0c-53ae-4476-a2f5-158de9e868db",
   "metadata": {},
   "outputs": [
    {
     "data": {
      "text/html": [
       "<div>\n",
       "<style scoped>\n",
       "    .dataframe tbody tr th:only-of-type {\n",
       "        vertical-align: middle;\n",
       "    }\n",
       "\n",
       "    .dataframe tbody tr th {\n",
       "        vertical-align: top;\n",
       "    }\n",
       "\n",
       "    .dataframe thead th {\n",
       "        text-align: right;\n",
       "    }\n",
       "</style>\n",
       "<table border=\"1\" class=\"dataframe\">\n",
       "  <thead>\n",
       "    <tr style=\"text-align: right;\">\n",
       "      <th></th>\n",
       "      <th>Names</th>\n",
       "      <th>Age</th>\n",
       "      <th>City</th>\n",
       "    </tr>\n",
       "  </thead>\n",
       "  <tbody>\n",
       "    <tr>\n",
       "      <th>0</th>\n",
       "      <td>Yashwant</td>\n",
       "      <td>NaN</td>\n",
       "      <td>Delhi</td>\n",
       "    </tr>\n",
       "    <tr>\n",
       "      <th>1</th>\n",
       "      <td>Mokshita</td>\n",
       "      <td>14.0</td>\n",
       "      <td>Blr</td>\n",
       "    </tr>\n",
       "    <tr>\n",
       "      <th>2</th>\n",
       "      <td>NaN</td>\n",
       "      <td>13.0</td>\n",
       "      <td>Pune</td>\n",
       "    </tr>\n",
       "    <tr>\n",
       "      <th>3</th>\n",
       "      <td>Madhuri</td>\n",
       "      <td>17.0</td>\n",
       "      <td>Glr</td>\n",
       "    </tr>\n",
       "    <tr>\n",
       "      <th>4</th>\n",
       "      <td>Tanisha</td>\n",
       "      <td>11.0</td>\n",
       "      <td>NaN</td>\n",
       "    </tr>\n",
       "  </tbody>\n",
       "</table>\n",
       "</div>"
      ],
      "text/plain": [
       "      Names   Age   City\n",
       "0  Yashwant   NaN  Delhi\n",
       "1  Mokshita  14.0    Blr\n",
       "2       NaN  13.0   Pune\n",
       "3   Madhuri  17.0    Glr\n",
       "4   Tanisha  11.0    NaN"
      ]
     },
     "execution_count": 16,
     "metadata": {},
     "output_type": "execute_result"
    }
   ],
   "source": [
    "d1"
   ]
  },
  {
   "cell_type": "code",
   "execution_count": 18,
   "id": "0eed6330-5eee-41a9-a316-c0bd6d9ae850",
   "metadata": {},
   "outputs": [],
   "source": [
    "d1['Age'].fillna(40,inplace=True)"
   ]
  },
  {
   "cell_type": "code",
   "execution_count": 19,
   "id": "694460b2-d839-48e9-afb1-508851f04226",
   "metadata": {},
   "outputs": [
    {
     "data": {
      "text/html": [
       "<div>\n",
       "<style scoped>\n",
       "    .dataframe tbody tr th:only-of-type {\n",
       "        vertical-align: middle;\n",
       "    }\n",
       "\n",
       "    .dataframe tbody tr th {\n",
       "        vertical-align: top;\n",
       "    }\n",
       "\n",
       "    .dataframe thead th {\n",
       "        text-align: right;\n",
       "    }\n",
       "</style>\n",
       "<table border=\"1\" class=\"dataframe\">\n",
       "  <thead>\n",
       "    <tr style=\"text-align: right;\">\n",
       "      <th></th>\n",
       "      <th>Names</th>\n",
       "      <th>Age</th>\n",
       "      <th>City</th>\n",
       "    </tr>\n",
       "  </thead>\n",
       "  <tbody>\n",
       "    <tr>\n",
       "      <th>0</th>\n",
       "      <td>Yashwant</td>\n",
       "      <td>40.0</td>\n",
       "      <td>Delhi</td>\n",
       "    </tr>\n",
       "    <tr>\n",
       "      <th>1</th>\n",
       "      <td>Mokshita</td>\n",
       "      <td>14.0</td>\n",
       "      <td>Blr</td>\n",
       "    </tr>\n",
       "    <tr>\n",
       "      <th>2</th>\n",
       "      <td>NaN</td>\n",
       "      <td>13.0</td>\n",
       "      <td>Pune</td>\n",
       "    </tr>\n",
       "    <tr>\n",
       "      <th>3</th>\n",
       "      <td>Madhuri</td>\n",
       "      <td>17.0</td>\n",
       "      <td>Glr</td>\n",
       "    </tr>\n",
       "    <tr>\n",
       "      <th>4</th>\n",
       "      <td>Tanisha</td>\n",
       "      <td>11.0</td>\n",
       "      <td>NaN</td>\n",
       "    </tr>\n",
       "  </tbody>\n",
       "</table>\n",
       "</div>"
      ],
      "text/plain": [
       "      Names   Age   City\n",
       "0  Yashwant  40.0  Delhi\n",
       "1  Mokshita  14.0    Blr\n",
       "2       NaN  13.0   Pune\n",
       "3   Madhuri  17.0    Glr\n",
       "4   Tanisha  11.0    NaN"
      ]
     },
     "execution_count": 19,
     "metadata": {},
     "output_type": "execute_result"
    }
   ],
   "source": [
    "d1"
   ]
  },
  {
   "cell_type": "code",
   "execution_count": 20,
   "id": "1b157d4c-3d35-4ff1-9798-f2cbf79a4be3",
   "metadata": {},
   "outputs": [],
   "source": [
    "dict1={'Names':['Yashwant','Mokshita',np.nan,'Madhuri','Tanisha'],\n",
    "        'Age':[np.nan,14,13,17,11],\n",
    "        'City':['Delhi','Blr','Pune','Glr',np.nan]}\n",
    "d1=pd.DataFrame(dict1)"
   ]
  },
  {
   "cell_type": "markdown",
   "id": "b945b2ea-5c23-4c42-a87b-35ff5595166f",
   "metadata": {},
   "source": [
    "**Method-3**\n",
    "\n",
    "- bfill\n",
    "\n",
    "- ffill\n",
    "\n",
    "- pad\n",
    "\n",
    "- backfill"
   ]
  },
  {
   "cell_type": "code",
   "execution_count": 24,
   "id": "14a9ce04-8c18-4a19-a7ee-16dc4e2f937d",
   "metadata": {},
   "outputs": [
    {
     "name": "stderr",
     "output_type": "stream",
     "text": [
      "C:\\Users\\HP\\AppData\\Local\\Temp\\ipykernel_7984\\927219379.py:1: FutureWarning: DataFrame.fillna with 'method' is deprecated and will raise in a future version. Use obj.ffill() or obj.bfill() instead.\n",
      "  d1.fillna(method='bfill')\n"
     ]
    },
    {
     "data": {
      "text/html": [
       "<div>\n",
       "<style scoped>\n",
       "    .dataframe tbody tr th:only-of-type {\n",
       "        vertical-align: middle;\n",
       "    }\n",
       "\n",
       "    .dataframe tbody tr th {\n",
       "        vertical-align: top;\n",
       "    }\n",
       "\n",
       "    .dataframe thead th {\n",
       "        text-align: right;\n",
       "    }\n",
       "</style>\n",
       "<table border=\"1\" class=\"dataframe\">\n",
       "  <thead>\n",
       "    <tr style=\"text-align: right;\">\n",
       "      <th></th>\n",
       "      <th>Names</th>\n",
       "      <th>Age</th>\n",
       "      <th>City</th>\n",
       "    </tr>\n",
       "  </thead>\n",
       "  <tbody>\n",
       "    <tr>\n",
       "      <th>0</th>\n",
       "      <td>Yashwant</td>\n",
       "      <td>14.0</td>\n",
       "      <td>Delhi</td>\n",
       "    </tr>\n",
       "    <tr>\n",
       "      <th>1</th>\n",
       "      <td>Mokshita</td>\n",
       "      <td>14.0</td>\n",
       "      <td>Blr</td>\n",
       "    </tr>\n",
       "    <tr>\n",
       "      <th>2</th>\n",
       "      <td>Madhuri</td>\n",
       "      <td>13.0</td>\n",
       "      <td>Pune</td>\n",
       "    </tr>\n",
       "    <tr>\n",
       "      <th>3</th>\n",
       "      <td>Madhuri</td>\n",
       "      <td>17.0</td>\n",
       "      <td>Glr</td>\n",
       "    </tr>\n",
       "    <tr>\n",
       "      <th>4</th>\n",
       "      <td>Tanisha</td>\n",
       "      <td>11.0</td>\n",
       "      <td>NaN</td>\n",
       "    </tr>\n",
       "  </tbody>\n",
       "</table>\n",
       "</div>"
      ],
      "text/plain": [
       "      Names   Age   City\n",
       "0  Yashwant  14.0  Delhi\n",
       "1  Mokshita  14.0    Blr\n",
       "2   Madhuri  13.0   Pune\n",
       "3   Madhuri  17.0    Glr\n",
       "4   Tanisha  11.0    NaN"
      ]
     },
     "execution_count": 24,
     "metadata": {},
     "output_type": "execute_result"
    }
   ],
   "source": [
    "d1.fillna(method='bfill')\n",
    "# It will fill with below value or next value\n",
    "# Column1: Names index 3 is missing values it is filled with index4 values\n",
    "# Column2: Age index 1 is missing it is filled with index 2 values\n",
    "# Column3: City index 5 is missing it should be filled with next values but we don't have next values"
   ]
  },
  {
   "cell_type": "code",
   "execution_count": 26,
   "id": "e94a3869-440b-480d-a003-1cc39579d1a1",
   "metadata": {},
   "outputs": [
    {
     "name": "stderr",
     "output_type": "stream",
     "text": [
      "C:\\Users\\HP\\AppData\\Local\\Temp\\ipykernel_7984\\2150281777.py:1: FutureWarning: DataFrame.fillna with 'method' is deprecated and will raise in a future version. Use obj.ffill() or obj.bfill() instead.\n",
      "  d1.fillna(method='bfill',axis=1)\n"
     ]
    },
    {
     "data": {
      "text/html": [
       "<div>\n",
       "<style scoped>\n",
       "    .dataframe tbody tr th:only-of-type {\n",
       "        vertical-align: middle;\n",
       "    }\n",
       "\n",
       "    .dataframe tbody tr th {\n",
       "        vertical-align: top;\n",
       "    }\n",
       "\n",
       "    .dataframe thead th {\n",
       "        text-align: right;\n",
       "    }\n",
       "</style>\n",
       "<table border=\"1\" class=\"dataframe\">\n",
       "  <thead>\n",
       "    <tr style=\"text-align: right;\">\n",
       "      <th></th>\n",
       "      <th>Names</th>\n",
       "      <th>Age</th>\n",
       "      <th>City</th>\n",
       "    </tr>\n",
       "  </thead>\n",
       "  <tbody>\n",
       "    <tr>\n",
       "      <th>0</th>\n",
       "      <td>Yashwant</td>\n",
       "      <td>Delhi</td>\n",
       "      <td>Delhi</td>\n",
       "    </tr>\n",
       "    <tr>\n",
       "      <th>1</th>\n",
       "      <td>Mokshita</td>\n",
       "      <td>14.0</td>\n",
       "      <td>Blr</td>\n",
       "    </tr>\n",
       "    <tr>\n",
       "      <th>2</th>\n",
       "      <td>13.0</td>\n",
       "      <td>13.0</td>\n",
       "      <td>Pune</td>\n",
       "    </tr>\n",
       "    <tr>\n",
       "      <th>3</th>\n",
       "      <td>Madhuri</td>\n",
       "      <td>17.0</td>\n",
       "      <td>Glr</td>\n",
       "    </tr>\n",
       "    <tr>\n",
       "      <th>4</th>\n",
       "      <td>Tanisha</td>\n",
       "      <td>11.0</td>\n",
       "      <td>NaN</td>\n",
       "    </tr>\n",
       "  </tbody>\n",
       "</table>\n",
       "</div>"
      ],
      "text/plain": [
       "      Names    Age   City\n",
       "0  Yashwant  Delhi  Delhi\n",
       "1  Mokshita   14.0    Blr\n",
       "2      13.0   13.0   Pune\n",
       "3   Madhuri   17.0    Glr\n",
       "4   Tanisha   11.0    NaN"
      ]
     },
     "execution_count": 26,
     "metadata": {},
     "output_type": "execute_result"
    }
   ],
   "source": [
    "d1.fillna(method='bfill',axis=1)\n",
    "# axis=1 means columns \n",
    "# Nan values fill with next column values"
   ]
  },
  {
   "cell_type": "code",
   "execution_count": 27,
   "id": "6e52c397-5ad6-4662-8463-d29fc7a81c13",
   "metadata": {},
   "outputs": [
    {
     "name": "stderr",
     "output_type": "stream",
     "text": [
      "C:\\Users\\HP\\AppData\\Local\\Temp\\ipykernel_7984\\907203477.py:1: FutureWarning: DataFrame.fillna with 'method' is deprecated and will raise in a future version. Use obj.ffill() or obj.bfill() instead.\n",
      "  d1.fillna(method='backfill')\n"
     ]
    },
    {
     "data": {
      "text/html": [
       "<div>\n",
       "<style scoped>\n",
       "    .dataframe tbody tr th:only-of-type {\n",
       "        vertical-align: middle;\n",
       "    }\n",
       "\n",
       "    .dataframe tbody tr th {\n",
       "        vertical-align: top;\n",
       "    }\n",
       "\n",
       "    .dataframe thead th {\n",
       "        text-align: right;\n",
       "    }\n",
       "</style>\n",
       "<table border=\"1\" class=\"dataframe\">\n",
       "  <thead>\n",
       "    <tr style=\"text-align: right;\">\n",
       "      <th></th>\n",
       "      <th>Names</th>\n",
       "      <th>Age</th>\n",
       "      <th>City</th>\n",
       "    </tr>\n",
       "  </thead>\n",
       "  <tbody>\n",
       "    <tr>\n",
       "      <th>0</th>\n",
       "      <td>Yashwant</td>\n",
       "      <td>14.0</td>\n",
       "      <td>Delhi</td>\n",
       "    </tr>\n",
       "    <tr>\n",
       "      <th>1</th>\n",
       "      <td>Mokshita</td>\n",
       "      <td>14.0</td>\n",
       "      <td>Blr</td>\n",
       "    </tr>\n",
       "    <tr>\n",
       "      <th>2</th>\n",
       "      <td>Madhuri</td>\n",
       "      <td>13.0</td>\n",
       "      <td>Pune</td>\n",
       "    </tr>\n",
       "    <tr>\n",
       "      <th>3</th>\n",
       "      <td>Madhuri</td>\n",
       "      <td>17.0</td>\n",
       "      <td>Glr</td>\n",
       "    </tr>\n",
       "    <tr>\n",
       "      <th>4</th>\n",
       "      <td>Tanisha</td>\n",
       "      <td>11.0</td>\n",
       "      <td>NaN</td>\n",
       "    </tr>\n",
       "  </tbody>\n",
       "</table>\n",
       "</div>"
      ],
      "text/plain": [
       "      Names   Age   City\n",
       "0  Yashwant  14.0  Delhi\n",
       "1  Mokshita  14.0    Blr\n",
       "2   Madhuri  13.0   Pune\n",
       "3   Madhuri  17.0    Glr\n",
       "4   Tanisha  11.0    NaN"
      ]
     },
     "execution_count": 27,
     "metadata": {},
     "output_type": "execute_result"
    }
   ],
   "source": [
    "d1.fillna(method='backfill')"
   ]
  },
  {
   "cell_type": "code",
   "execution_count": 28,
   "id": "7c1ad3f8-76ed-40ce-a93d-dd2d1f37cd47",
   "metadata": {},
   "outputs": [
    {
     "name": "stderr",
     "output_type": "stream",
     "text": [
      "C:\\Users\\HP\\AppData\\Local\\Temp\\ipykernel_7984\\3282249208.py:1: FutureWarning: DataFrame.fillna with 'method' is deprecated and will raise in a future version. Use obj.ffill() or obj.bfill() instead.\n",
      "  d1.fillna(method='pad')\n"
     ]
    },
    {
     "data": {
      "text/html": [
       "<div>\n",
       "<style scoped>\n",
       "    .dataframe tbody tr th:only-of-type {\n",
       "        vertical-align: middle;\n",
       "    }\n",
       "\n",
       "    .dataframe tbody tr th {\n",
       "        vertical-align: top;\n",
       "    }\n",
       "\n",
       "    .dataframe thead th {\n",
       "        text-align: right;\n",
       "    }\n",
       "</style>\n",
       "<table border=\"1\" class=\"dataframe\">\n",
       "  <thead>\n",
       "    <tr style=\"text-align: right;\">\n",
       "      <th></th>\n",
       "      <th>Names</th>\n",
       "      <th>Age</th>\n",
       "      <th>City</th>\n",
       "    </tr>\n",
       "  </thead>\n",
       "  <tbody>\n",
       "    <tr>\n",
       "      <th>0</th>\n",
       "      <td>Yashwant</td>\n",
       "      <td>NaN</td>\n",
       "      <td>Delhi</td>\n",
       "    </tr>\n",
       "    <tr>\n",
       "      <th>1</th>\n",
       "      <td>Mokshita</td>\n",
       "      <td>14.0</td>\n",
       "      <td>Blr</td>\n",
       "    </tr>\n",
       "    <tr>\n",
       "      <th>2</th>\n",
       "      <td>Mokshita</td>\n",
       "      <td>13.0</td>\n",
       "      <td>Pune</td>\n",
       "    </tr>\n",
       "    <tr>\n",
       "      <th>3</th>\n",
       "      <td>Madhuri</td>\n",
       "      <td>17.0</td>\n",
       "      <td>Glr</td>\n",
       "    </tr>\n",
       "    <tr>\n",
       "      <th>4</th>\n",
       "      <td>Tanisha</td>\n",
       "      <td>11.0</td>\n",
       "      <td>Glr</td>\n",
       "    </tr>\n",
       "  </tbody>\n",
       "</table>\n",
       "</div>"
      ],
      "text/plain": [
       "      Names   Age   City\n",
       "0  Yashwant   NaN  Delhi\n",
       "1  Mokshita  14.0    Blr\n",
       "2  Mokshita  13.0   Pune\n",
       "3   Madhuri  17.0    Glr\n",
       "4   Tanisha  11.0    Glr"
      ]
     },
     "execution_count": 28,
     "metadata": {},
     "output_type": "execute_result"
    }
   ],
   "source": [
    "d1.fillna(method='pad')"
   ]
  },
  {
   "cell_type": "code",
   "execution_count": 29,
   "id": "df951621-0f46-42cd-ab85-15f252cc75b0",
   "metadata": {},
   "outputs": [
    {
     "name": "stderr",
     "output_type": "stream",
     "text": [
      "C:\\Users\\HP\\AppData\\Local\\Temp\\ipykernel_7984\\4088926743.py:1: FutureWarning: DataFrame.fillna with 'method' is deprecated and will raise in a future version. Use obj.ffill() or obj.bfill() instead.\n",
      "  d1.fillna(method='ffill')\n"
     ]
    },
    {
     "data": {
      "text/html": [
       "<div>\n",
       "<style scoped>\n",
       "    .dataframe tbody tr th:only-of-type {\n",
       "        vertical-align: middle;\n",
       "    }\n",
       "\n",
       "    .dataframe tbody tr th {\n",
       "        vertical-align: top;\n",
       "    }\n",
       "\n",
       "    .dataframe thead th {\n",
       "        text-align: right;\n",
       "    }\n",
       "</style>\n",
       "<table border=\"1\" class=\"dataframe\">\n",
       "  <thead>\n",
       "    <tr style=\"text-align: right;\">\n",
       "      <th></th>\n",
       "      <th>Names</th>\n",
       "      <th>Age</th>\n",
       "      <th>City</th>\n",
       "    </tr>\n",
       "  </thead>\n",
       "  <tbody>\n",
       "    <tr>\n",
       "      <th>0</th>\n",
       "      <td>Yashwant</td>\n",
       "      <td>NaN</td>\n",
       "      <td>Delhi</td>\n",
       "    </tr>\n",
       "    <tr>\n",
       "      <th>1</th>\n",
       "      <td>Mokshita</td>\n",
       "      <td>14.0</td>\n",
       "      <td>Blr</td>\n",
       "    </tr>\n",
       "    <tr>\n",
       "      <th>2</th>\n",
       "      <td>Mokshita</td>\n",
       "      <td>13.0</td>\n",
       "      <td>Pune</td>\n",
       "    </tr>\n",
       "    <tr>\n",
       "      <th>3</th>\n",
       "      <td>Madhuri</td>\n",
       "      <td>17.0</td>\n",
       "      <td>Glr</td>\n",
       "    </tr>\n",
       "    <tr>\n",
       "      <th>4</th>\n",
       "      <td>Tanisha</td>\n",
       "      <td>11.0</td>\n",
       "      <td>Glr</td>\n",
       "    </tr>\n",
       "  </tbody>\n",
       "</table>\n",
       "</div>"
      ],
      "text/plain": [
       "      Names   Age   City\n",
       "0  Yashwant   NaN  Delhi\n",
       "1  Mokshita  14.0    Blr\n",
       "2  Mokshita  13.0   Pune\n",
       "3   Madhuri  17.0    Glr\n",
       "4   Tanisha  11.0    Glr"
      ]
     },
     "execution_count": 29,
     "metadata": {},
     "output_type": "execute_result"
    }
   ],
   "source": [
    "d1.fillna(method='ffill')"
   ]
  },
  {
   "cell_type": "markdown",
   "id": "10c7b3eb-f544-4998-8a28-46344a91e7cd",
   "metadata": {},
   "source": [
    "- backfill and bfill fill with Next value\n",
    "\n",
    "- pad and ffill fill with previous value\n",
    "\n",
    "- but it will change based on axis"
   ]
  },
  {
   "cell_type": "markdown",
   "id": "701fa38f-9f4b-4fd0-a3e3-dca85645cd24",
   "metadata": {},
   "source": [
    "**Method-4**\n",
    "\n",
    "- mean\n",
    "\n",
    "    - Numerical values can fill with mean values\n",
    "\n",
    "    - but mean affect by outliers\n",
    "\n",
    "    - if we don't have outliers it is best one\n",
    "\n",
    "- median\n",
    "\n",
    "   - Numerical values can fill with median values\n",
    "\n",
    "   - We know that median values does not affect with outliers\n",
    "\n",
    "   - so if outliers are there we can go with median\n",
    "\n",
    "- mode\n",
    "\n",
    "   - Mode is useful for categorical data"
   ]
  },
  {
   "cell_type": "code",
   "execution_count": 32,
   "id": "d6b3360d-aa94-4dde-a782-122e14142026",
   "metadata": {},
   "outputs": [
    {
     "data": {
      "text/html": [
       "<div>\n",
       "<style scoped>\n",
       "    .dataframe tbody tr th:only-of-type {\n",
       "        vertical-align: middle;\n",
       "    }\n",
       "\n",
       "    .dataframe tbody tr th {\n",
       "        vertical-align: top;\n",
       "    }\n",
       "\n",
       "    .dataframe thead th {\n",
       "        text-align: right;\n",
       "    }\n",
       "</style>\n",
       "<table border=\"1\" class=\"dataframe\">\n",
       "  <thead>\n",
       "    <tr style=\"text-align: right;\">\n",
       "      <th></th>\n",
       "      <th>Names</th>\n",
       "      <th>Age</th>\n",
       "      <th>City</th>\n",
       "    </tr>\n",
       "  </thead>\n",
       "  <tbody>\n",
       "    <tr>\n",
       "      <th>0</th>\n",
       "      <td>Yashwant</td>\n",
       "      <td>NaN</td>\n",
       "      <td>Delhi</td>\n",
       "    </tr>\n",
       "    <tr>\n",
       "      <th>1</th>\n",
       "      <td>Mokshita</td>\n",
       "      <td>14.0</td>\n",
       "      <td>Blr</td>\n",
       "    </tr>\n",
       "    <tr>\n",
       "      <th>2</th>\n",
       "      <td>NaN</td>\n",
       "      <td>13.0</td>\n",
       "      <td>Pune</td>\n",
       "    </tr>\n",
       "    <tr>\n",
       "      <th>3</th>\n",
       "      <td>Madhuri</td>\n",
       "      <td>17.0</td>\n",
       "      <td>Glr</td>\n",
       "    </tr>\n",
       "    <tr>\n",
       "      <th>4</th>\n",
       "      <td>Tanisha</td>\n",
       "      <td>11.0</td>\n",
       "      <td>NaN</td>\n",
       "    </tr>\n",
       "  </tbody>\n",
       "</table>\n",
       "</div>"
      ],
      "text/plain": [
       "      Names   Age   City\n",
       "0  Yashwant   NaN  Delhi\n",
       "1  Mokshita  14.0    Blr\n",
       "2       NaN  13.0   Pune\n",
       "3   Madhuri  17.0    Glr\n",
       "4   Tanisha  11.0    NaN"
      ]
     },
     "execution_count": 32,
     "metadata": {},
     "output_type": "execute_result"
    }
   ],
   "source": [
    "dict1={'Names':['Yashwant','Mokshita',np.nan,'Madhuri','Tanisha'],\n",
    "        'Age':[np.nan,14,13,17,11],\n",
    "        'City':['Delhi','Blr','Pune','Glr',np.nan]}\n",
    "d1=pd.DataFrame(dict1)\n",
    "d1"
   ]
  },
  {
   "cell_type": "code",
   "execution_count": 31,
   "id": "4600ac77-95fa-4709-9167-bda76e47a8b2",
   "metadata": {},
   "outputs": [
    {
     "data": {
      "text/plain": [
       "0    13.75\n",
       "1    14.00\n",
       "2    13.00\n",
       "3    17.00\n",
       "4    11.00\n",
       "Name: Age, dtype: float64"
      ]
     },
     "execution_count": 31,
     "metadata": {},
     "output_type": "execute_result"
    }
   ],
   "source": [
    "# we already know we can fill with some values based on specific columns using frame \n",
    "# d1.fillna(<random number>)\n",
    "# d1 represents all the columns\n",
    "age_mean=d1['Age'].mean()\n",
    "d1['Age'].fillna(age_mean)"
   ]
  },
  {
   "cell_type": "code",
   "execution_count": 33,
   "id": "28299eb3-5453-4c3b-a949-0346cf71b5e2",
   "metadata": {},
   "outputs": [
    {
     "data": {
      "text/plain": [
       "0    13.5\n",
       "1    14.0\n",
       "2    13.0\n",
       "3    17.0\n",
       "4    11.0\n",
       "Name: Age, dtype: float64"
      ]
     },
     "execution_count": 33,
     "metadata": {},
     "output_type": "execute_result"
    }
   ],
   "source": [
    "age_median=d1['Age'].median()\n",
    "d1['Age'].fillna(age_median)"
   ]
  },
  {
   "cell_type": "code",
   "execution_count": 34,
   "id": "0f833324-f95d-41be-b151-aeaa3b327ce5",
   "metadata": {},
   "outputs": [
    {
     "data": {
      "text/plain": [
       "0    11.0\n",
       "1    14.0\n",
       "2    13.0\n",
       "3    17.0\n",
       "4    11.0\n",
       "Name: Age, dtype: float64"
      ]
     },
     "execution_count": 34,
     "metadata": {},
     "output_type": "execute_result"
    }
   ],
   "source": [
    "age_mode=d1['Age'].mode()\n",
    "d1['Age'].fillna(age_mode)"
   ]
  },
  {
   "cell_type": "code",
   "execution_count": 35,
   "id": "8d2919d2-210d-4445-8917-c5313b749c8a",
   "metadata": {},
   "outputs": [
    {
     "data": {
      "text/html": [
       "<div>\n",
       "<style scoped>\n",
       "    .dataframe tbody tr th:only-of-type {\n",
       "        vertical-align: middle;\n",
       "    }\n",
       "\n",
       "    .dataframe tbody tr th {\n",
       "        vertical-align: top;\n",
       "    }\n",
       "\n",
       "    .dataframe thead th {\n",
       "        text-align: right;\n",
       "    }\n",
       "</style>\n",
       "<table border=\"1\" class=\"dataframe\">\n",
       "  <thead>\n",
       "    <tr style=\"text-align: right;\">\n",
       "      <th></th>\n",
       "      <th>Names</th>\n",
       "      <th>Age</th>\n",
       "      <th>City</th>\n",
       "    </tr>\n",
       "  </thead>\n",
       "  <tbody>\n",
       "    <tr>\n",
       "      <th>0</th>\n",
       "      <td>Yashwant</td>\n",
       "      <td>NaN</td>\n",
       "      <td>Delhi</td>\n",
       "    </tr>\n",
       "    <tr>\n",
       "      <th>1</th>\n",
       "      <td>Mokshita</td>\n",
       "      <td>14.0</td>\n",
       "      <td>Blr</td>\n",
       "    </tr>\n",
       "    <tr>\n",
       "      <th>2</th>\n",
       "      <td>NaN</td>\n",
       "      <td>13.0</td>\n",
       "      <td>Pune</td>\n",
       "    </tr>\n",
       "    <tr>\n",
       "      <th>3</th>\n",
       "      <td>Madhuri</td>\n",
       "      <td>17.0</td>\n",
       "      <td>Glr</td>\n",
       "    </tr>\n",
       "    <tr>\n",
       "      <th>4</th>\n",
       "      <td>Tanisha</td>\n",
       "      <td>11.0</td>\n",
       "      <td>NaN</td>\n",
       "    </tr>\n",
       "  </tbody>\n",
       "</table>\n",
       "</div>"
      ],
      "text/plain": [
       "      Names   Age   City\n",
       "0  Yashwant   NaN  Delhi\n",
       "1  Mokshita  14.0    Blr\n",
       "2       NaN  13.0   Pune\n",
       "3   Madhuri  17.0    Glr\n",
       "4   Tanisha  11.0    NaN"
      ]
     },
     "execution_count": 35,
     "metadata": {},
     "output_type": "execute_result"
    }
   ],
   "source": [
    "d1"
   ]
  },
  {
   "cell_type": "code",
   "execution_count": 36,
   "id": "e9f0c35d-20cd-4239-b53a-10935d48a284",
   "metadata": {},
   "outputs": [
    {
     "data": {
      "text/plain": [
       "0      Blr\n",
       "1    Delhi\n",
       "2      Glr\n",
       "3     Pune\n",
       "Name: City, dtype: object"
      ]
     },
     "execution_count": 36,
     "metadata": {},
     "output_type": "execute_result"
    }
   ],
   "source": [
    "d1['City'].mode()\n",
    "# In this use case we are getting mode equal\n",
    "# But in real time we will get clear mode value"
   ]
  },
  {
   "cell_type": "markdown",
   "id": "f68745ac-75d2-4b7c-9214-efe3e9d979b9",
   "metadata": {},
   "source": [
    "- Fill with random value\n",
    "\n",
    "- Fill with random value on specific value\n",
    "\n",
    "- Fill with methods\n",
    "\n",
    "   - bfill\n",
    "\n",
    "   - ffill\n",
    "\n",
    "   - pad\n",
    "\n",
    "   - backfill\n",
    "\n",
    "- Fill with\n",
    "\n",
    "   - Mean\n",
    "\n",
    "   - Median\n",
    "\n",
    "   - Mode"
   ]
  },
  {
   "cell_type": "markdown",
   "id": "181f1e0d-aae2-4173-a9b2-526571c8b6b0",
   "metadata": {},
   "source": [
    "**Method-5**\n",
    "\n",
    "**KNN imputer**\n",
    "\n",
    "- KNN: k nearest Neighbours\n",
    "\n",
    "- K is a hyper parameter means user can choose\n",
    "\n",
    "- It is a distance metric: **Euclidian distance**\n",
    "\n",
    "- KNN imputer will take the mean of the neighbours value\n",
    "\n",
    "- The neighbours value can provided by using value=k\n",
    "\n",
    "- It is under sklearn package\n",
    "\n",
    "- Under sklearn we have Imputer method\n",
    "\n",
    "- Under imputer method we have KnnImputer\n",
    "\n",
    "- Applicable only for Numerical data"
   ]
  },
  {
   "cell_type": "markdown",
   "id": "7cdcc312-3578-4e40-af63-c64e028442a7",
   "metadata": {},
   "source": [
    "<img id=\"dimg_27\" src=\"data:image/png;base64,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\" class=\"YQ4gaf\" height=\"203\" style=\"object-position:41% 16%\" width=\"248\" alt=\"Distance Measures in Machine Learning ...\" data-csiid=\"26\" data-atf=\"1\">"
   ]
  },
  {
   "cell_type": "code",
   "execution_count": 38,
   "id": "ff5a478b-4fd2-40c9-823c-20c26b5d7cf4",
   "metadata": {},
   "outputs": [
    {
     "data": {
      "text/plain": [
       "array([[13.75],\n",
       "       [14.  ],\n",
       "       [13.  ],\n",
       "       [17.  ],\n",
       "       [11.  ]])"
      ]
     },
     "execution_count": 38,
     "metadata": {},
     "output_type": "execute_result"
    }
   ],
   "source": [
    "from sklearn.impute import KNNImputer\n",
    "KI=KNNImputer()\n",
    "KI.fit_transform(d1[['Age']])"
   ]
  },
  {
   "cell_type": "code",
   "execution_count": null,
   "id": "708a06c5-d5ec-4097-8edd-321c26bd03db",
   "metadata": {},
   "outputs": [],
   "source": []
  }
 ],
 "metadata": {
  "kernelspec": {
   "display_name": "Python 3 (ipykernel)",
   "language": "python",
   "name": "python3"
  },
  "language_info": {
   "codemirror_mode": {
    "name": "ipython",
    "version": 3
   },
   "file_extension": ".py",
   "mimetype": "text/x-python",
   "name": "python",
   "nbconvert_exporter": "python",
   "pygments_lexer": "ipython3",
   "version": "3.11.7"
  }
 },
 "nbformat": 4,
 "nbformat_minor": 5
}
