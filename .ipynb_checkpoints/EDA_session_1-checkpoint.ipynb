{
 "cells": [
  {
   "cell_type": "code",
   "execution_count": 1,
   "id": "926bdf81-0129-4c08-bb10-863e3f041b78",
   "metadata": {},
   "outputs": [
    {
     "data": {
      "text/plain": [
       "40"
      ]
     },
     "execution_count": 1,
     "metadata": {},
     "output_type": "execute_result"
    }
   ],
   "source": [
    "a=10\n",
    "b=30\n",
    "c=a+b\n",
    "c"
   ]
  },
  {
   "cell_type": "code",
   "execution_count": null,
   "id": "f6447661-f655-4068-8cdc-31e1759a01bd",
   "metadata": {},
   "outputs": [],
   "source": [
    "=========================EDA==============================\n",
    "1) Pandas  : Data frame application.\n",
    "\n",
    "2) Numpy   :Numerical python All math application.\n",
    "\n",
    "3) Matplotlib:used for plotting.\n",
    "\n",
    "4) Seaborn  :used for plot.\n",
    "\n",
    "5) plotly   :use for plot\n",
    "\n",
    "6) Bokhe    :plot\n",
    "\n",
    "==============================Machine learning==============\n",
    "7) Sickit-learn:  sklearn\n",
    "\n",
    "==============================Deep learning=============================\n",
    "8) Tensorflow  : Google\n",
    "\n",
    "9) Keras       : Google\n",
    "\n",
    "10) Pytorch     : Facebook\n",
    "\n",
    "====================================NLP===============================\n",
    "11) NLTK       :Natural language tool kit\n",
    "\n",
    "12) Scipy\n",
    "\n",
    "===================================BERT==================================\n",
    "13) Transformers  :  Hugging face(Google)\n",
    "\n",
    "===================================Google models=================================\n",
    "14) Specific google packages\n",
    "\n",
    "\n",
    "==========================Azure ML===========================================\n",
    "15) Azure packages\n",
    "\n",
    "\n",
    "=========================GenAI========================================\n",
    "16) Geminiai    : Google\n",
    "\n",
    "17) ChatGPT     :OpenAI\n",
    "\n",
    "=========================LangChain=======================================\n",
    "18) LangChain packages"
   ]
  },
  {
   "cell_type": "markdown",
   "id": "20edd0a1-408f-41ad-ac8e-692e23b03acc",
   "metadata": {},
   "source": [
    "**Create a dataframe using list**"
   ]
  },
  {
   "cell_type": "markdown",
   "id": "deb9dc24-5419-4213-8f3b-200359ddf6c1",
   "metadata": {},
   "source": [
    "- list === dictionary\n",
    "\n",
    "- dictionary === list"
   ]
  },
  {
   "cell_type": "markdown",
   "id": "7c43a37f-7719-4e34-953c-3b5aff4a96d7",
   "metadata": {},
   "source": [
    "$Step-1$:\n",
    "\n",
    "**Create a dataframe**"
   ]
  },
  {
   "cell_type": "code",
   "execution_count": 3,
   "id": "2011e600-12f1-45df-af89-33c3300647d6",
   "metadata": {},
   "outputs": [
    {
     "data": {
      "text/html": [
       "<div>\n",
       "<style scoped>\n",
       "    .dataframe tbody tr th:only-of-type {\n",
       "        vertical-align: middle;\n",
       "    }\n",
       "\n",
       "    .dataframe tbody tr th {\n",
       "        vertical-align: top;\n",
       "    }\n",
       "\n",
       "    .dataframe thead th {\n",
       "        text-align: right;\n",
       "    }\n",
       "</style>\n",
       "<table border=\"1\" class=\"dataframe\">\n",
       "  <thead>\n",
       "    <tr style=\"text-align: right;\">\n",
       "      <th></th>\n",
       "    </tr>\n",
       "  </thead>\n",
       "  <tbody>\n",
       "  </tbody>\n",
       "</table>\n",
       "</div>"
      ],
      "text/plain": [
       "Empty DataFrame\n",
       "Columns: []\n",
       "Index: []"
      ]
     },
     "execution_count": 3,
     "metadata": {},
     "output_type": "execute_result"
    }
   ],
   "source": [
    "import pandas as pd\n",
    "names=['Ayush', 'Shivam', 'Gourav']\n",
    "pd.DataFrame( )      # empty dataframe now rows and no columns"
   ]
  },
  {
   "cell_type": "markdown",
   "id": "3a168266-1469-46d7-8c96-8fb8ae14ffe2",
   "metadata": {},
   "source": [
    "Step-2:\n",
    "\n",
    "**Provide the data**"
   ]
  },
  {
   "cell_type": "code",
   "execution_count": 5,
   "id": "a45f3201-a6c5-43f4-bc97-a76670ddfda5",
   "metadata": {},
   "outputs": [
    {
     "data": {
      "text/html": [
       "<div>\n",
       "<style scoped>\n",
       "    .dataframe tbody tr th:only-of-type {\n",
       "        vertical-align: middle;\n",
       "    }\n",
       "\n",
       "    .dataframe tbody tr th {\n",
       "        vertical-align: top;\n",
       "    }\n",
       "\n",
       "    .dataframe thead th {\n",
       "        text-align: right;\n",
       "    }\n",
       "</style>\n",
       "<table border=\"1\" class=\"dataframe\">\n",
       "  <thead>\n",
       "    <tr style=\"text-align: right;\">\n",
       "      <th></th>\n",
       "      <th>0</th>\n",
       "    </tr>\n",
       "  </thead>\n",
       "  <tbody>\n",
       "    <tr>\n",
       "      <th>0</th>\n",
       "      <td>Ayush</td>\n",
       "    </tr>\n",
       "    <tr>\n",
       "      <th>1</th>\n",
       "      <td>Shivam</td>\n",
       "    </tr>\n",
       "    <tr>\n",
       "      <th>2</th>\n",
       "      <td>Gourav</td>\n",
       "    </tr>\n",
       "  </tbody>\n",
       "</table>\n",
       "</div>"
      ],
      "text/plain": [
       "        0\n",
       "0   Ayush\n",
       "1  Shivam\n",
       "2  Gourav"
      ]
     },
     "execution_count": 5,
     "metadata": {},
     "output_type": "execute_result"
    }
   ],
   "source": [
    "import pandas as pd\n",
    "names=['Ayush', 'Shivam', 'Gourav']\n",
    "pd.DataFrame(names) "
   ]
  },
  {
   "cell_type": "code",
   "execution_count": 29,
   "id": "932be064-144a-4121-b383-bd375cd77389",
   "metadata": {},
   "outputs": [
    {
     "data": {
      "text/html": [
       "<div>\n",
       "<style scoped>\n",
       "    .dataframe tbody tr th:only-of-type {\n",
       "        vertical-align: middle;\n",
       "    }\n",
       "\n",
       "    .dataframe tbody tr th {\n",
       "        vertical-align: top;\n",
       "    }\n",
       "\n",
       "    .dataframe thead th {\n",
       "        text-align: right;\n",
       "    }\n",
       "</style>\n",
       "<table border=\"1\" class=\"dataframe\">\n",
       "  <thead>\n",
       "    <tr style=\"text-align: right;\">\n",
       "      <th></th>\n",
       "      <th>0</th>\n",
       "    </tr>\n",
       "  </thead>\n",
       "  <tbody>\n",
       "    <tr>\n",
       "      <th>25</th>\n",
       "      <td>Ayush</td>\n",
       "    </tr>\n",
       "    <tr>\n",
       "      <th>30</th>\n",
       "      <td>Shivam</td>\n",
       "    </tr>\n",
       "    <tr>\n",
       "      <th>35</th>\n",
       "      <td>Gourav</td>\n",
       "    </tr>\n",
       "  </tbody>\n",
       "</table>\n",
       "</div>"
      ],
      "text/plain": [
       "         0\n",
       "25   Ayush\n",
       "30  Shivam\n",
       "35  Gourav"
      ]
     },
     "execution_count": 29,
     "metadata": {},
     "output_type": "execute_result"
    }
   ],
   "source": [
    "import pandas as pd\n",
    "names=['Ayush', 'Shivam', 'Gourav']\n",
    "age=[25,30,35] \n",
    "pd.DataFrame(names,age)\n",
    "# What is the first positional argument: data\n",
    "# second positional arguments : index"
   ]
  },
  {
   "cell_type": "code",
   "execution_count": 6,
   "id": "2e1a02b8-c1a0-4028-aef3-dd720133835a",
   "metadata": {},
   "outputs": [
    {
     "data": {
      "text/html": [
       "<div>\n",
       "<style scoped>\n",
       "    .dataframe tbody tr th:only-of-type {\n",
       "        vertical-align: middle;\n",
       "    }\n",
       "\n",
       "    .dataframe tbody tr th {\n",
       "        vertical-align: top;\n",
       "    }\n",
       "\n",
       "    .dataframe thead th {\n",
       "        text-align: right;\n",
       "    }\n",
       "</style>\n",
       "<table border=\"1\" class=\"dataframe\">\n",
       "  <thead>\n",
       "    <tr style=\"text-align: right;\">\n",
       "      <th></th>\n",
       "      <th>0</th>\n",
       "      <th>1</th>\n",
       "    </tr>\n",
       "  </thead>\n",
       "  <tbody>\n",
       "    <tr>\n",
       "      <th>0</th>\n",
       "      <td>Ayush</td>\n",
       "      <td>25</td>\n",
       "    </tr>\n",
       "    <tr>\n",
       "      <th>1</th>\n",
       "      <td>Shivam</td>\n",
       "      <td>30</td>\n",
       "    </tr>\n",
       "    <tr>\n",
       "      <th>2</th>\n",
       "      <td>Gourav</td>\n",
       "      <td>35</td>\n",
       "    </tr>\n",
       "  </tbody>\n",
       "</table>\n",
       "</div>"
      ],
      "text/plain": [
       "        0   1\n",
       "0   Ayush  25\n",
       "1  Shivam  30\n",
       "2  Gourav  35"
      ]
     },
     "execution_count": 6,
     "metadata": {},
     "output_type": "execute_result"
    }
   ],
   "source": [
    "names=['Ayush', 'Shivam', 'Gourav']\n",
    "age=[25,30,35]\n",
    "pd.DataFrame(zip(names,age))\n",
    "# What is the first positional argument: data\n",
    "# second positional arguments : index"
   ]
  },
  {
   "cell_type": "code",
   "execution_count": 7,
   "id": "896d86df-a755-4e01-8992-92c4efe21919",
   "metadata": {},
   "outputs": [
    {
     "data": {
      "text/html": [
       "<div>\n",
       "<style scoped>\n",
       "    .dataframe tbody tr th:only-of-type {\n",
       "        vertical-align: middle;\n",
       "    }\n",
       "\n",
       "    .dataframe tbody tr th {\n",
       "        vertical-align: top;\n",
       "    }\n",
       "\n",
       "    .dataframe thead th {\n",
       "        text-align: right;\n",
       "    }\n",
       "</style>\n",
       "<table border=\"1\" class=\"dataframe\">\n",
       "  <thead>\n",
       "    <tr style=\"text-align: right;\">\n",
       "      <th></th>\n",
       "      <th>0</th>\n",
       "      <th>1</th>\n",
       "    </tr>\n",
       "  </thead>\n",
       "  <tbody>\n",
       "    <tr>\n",
       "      <th>Hyd</th>\n",
       "      <td>Ayush</td>\n",
       "      <td>25</td>\n",
       "    </tr>\n",
       "    <tr>\n",
       "      <th>blr</th>\n",
       "      <td>Shivam</td>\n",
       "      <td>30</td>\n",
       "    </tr>\n",
       "    <tr>\n",
       "      <th>chennai</th>\n",
       "      <td>Gourav</td>\n",
       "      <td>35</td>\n",
       "    </tr>\n",
       "  </tbody>\n",
       "</table>\n",
       "</div>"
      ],
      "text/plain": [
       "              0   1\n",
       "Hyd       Ayush  25\n",
       "blr      Shivam  30\n",
       "chennai  Gourav  35"
      ]
     },
     "execution_count": 7,
     "metadata": {},
     "output_type": "execute_result"
    }
   ],
   "source": [
    "names=['Ayush', 'Shivam', 'Gourav']\n",
    "age=[25,30,35]\n",
    "city=['Hyd', 'blr', 'chennai']\n",
    "data=zip(names,age)\n",
    "pd.DataFrame(data,city)"
   ]
  },
  {
   "cell_type": "markdown",
   "id": "08f963c1-ab82-407d-9269-c4aa84db0b5a",
   "metadata": {},
   "source": [
    "$Step-3$:\n",
    "\n",
    "**Provide the column names**"
   ]
  },
  {
   "cell_type": "code",
   "execution_count": 8,
   "id": "584a86f9-1b74-4650-8b3a-c0cb64c0759a",
   "metadata": {},
   "outputs": [
    {
     "data": {
      "text/html": [
       "<div>\n",
       "<style scoped>\n",
       "    .dataframe tbody tr th:only-of-type {\n",
       "        vertical-align: middle;\n",
       "    }\n",
       "\n",
       "    .dataframe tbody tr th {\n",
       "        vertical-align: top;\n",
       "    }\n",
       "\n",
       "    .dataframe thead th {\n",
       "        text-align: right;\n",
       "    }\n",
       "</style>\n",
       "<table border=\"1\" class=\"dataframe\">\n",
       "  <thead>\n",
       "    <tr style=\"text-align: right;\">\n",
       "      <th></th>\n",
       "      <th>Names</th>\n",
       "      <th>Age</th>\n",
       "    </tr>\n",
       "  </thead>\n",
       "  <tbody>\n",
       "    <tr>\n",
       "      <th>0</th>\n",
       "      <td>Ayush</td>\n",
       "      <td>25</td>\n",
       "    </tr>\n",
       "    <tr>\n",
       "      <th>1</th>\n",
       "      <td>Shivam</td>\n",
       "      <td>30</td>\n",
       "    </tr>\n",
       "    <tr>\n",
       "      <th>2</th>\n",
       "      <td>Gourav</td>\n",
       "      <td>35</td>\n",
       "    </tr>\n",
       "  </tbody>\n",
       "</table>\n",
       "</div>"
      ],
      "text/plain": [
       "    Names  Age\n",
       "0   Ayush   25\n",
       "1  Shivam   30\n",
       "2  Gourav   35"
      ]
     },
     "execution_count": 8,
     "metadata": {},
     "output_type": "execute_result"
    }
   ],
   "source": [
    "names=['Ayush', 'Shivam', 'Gourav']\n",
    "age=[25,30,35]\n",
    "pd.DataFrame(zip(names,age),columns=['Names','Age'])"
   ]
  },
  {
   "cell_type": "markdown",
   "id": "79a25352-b529-471c-af5d-4838aa89eb72",
   "metadata": {},
   "source": [
    "Step-3:\n",
    "\n",
    "**Provide the column names**`"
   ]
  },
  {
   "cell_type": "code",
   "execution_count": 9,
   "id": "e2ed8fa8-aa75-4d71-a850-99f0d1290943",
   "metadata": {},
   "outputs": [
    {
     "data": {
      "text/html": [
       "<div>\n",
       "<style scoped>\n",
       "    .dataframe tbody tr th:only-of-type {\n",
       "        vertical-align: middle;\n",
       "    }\n",
       "\n",
       "    .dataframe tbody tr th {\n",
       "        vertical-align: top;\n",
       "    }\n",
       "\n",
       "    .dataframe thead th {\n",
       "        text-align: right;\n",
       "    }\n",
       "</style>\n",
       "<table border=\"1\" class=\"dataframe\">\n",
       "  <thead>\n",
       "    <tr style=\"text-align: right;\">\n",
       "      <th></th>\n",
       "      <th>Names</th>\n",
       "      <th>Age</th>\n",
       "    </tr>\n",
       "  </thead>\n",
       "  <tbody>\n",
       "    <tr>\n",
       "      <th>0</th>\n",
       "      <td>Ayush</td>\n",
       "      <td>25</td>\n",
       "    </tr>\n",
       "    <tr>\n",
       "      <th>1</th>\n",
       "      <td>Shivam</td>\n",
       "      <td>30</td>\n",
       "    </tr>\n",
       "    <tr>\n",
       "      <th>2</th>\n",
       "      <td>Gourav</td>\n",
       "      <td>35</td>\n",
       "    </tr>\n",
       "  </tbody>\n",
       "</table>\n",
       "</div>"
      ],
      "text/plain": [
       "    Names  Age\n",
       "0   Ayush   25\n",
       "1  Shivam   30\n",
       "2  Gourav   35"
      ]
     },
     "execution_count": 9,
     "metadata": {},
     "output_type": "execute_result"
    }
   ],
   "source": [
    "names=['Ayush', 'Shivam', 'Gourav']\n",
    "age=[25,30,35]\n",
    "pd.DataFrame(zip(names,age),\n",
    "             columns=['Names','Age'])"
   ]
  },
  {
   "cell_type": "code",
   "execution_count": 33,
   "id": "850f40c6-62e1-466c-98cd-30d7b88984e1",
   "metadata": {},
   "outputs": [
    {
     "data": {
      "text/html": [
       "<div>\n",
       "<style scoped>\n",
       "    .dataframe tbody tr th:only-of-type {\n",
       "        vertical-align: middle;\n",
       "    }\n",
       "\n",
       "    .dataframe tbody tr th {\n",
       "        vertical-align: top;\n",
       "    }\n",
       "\n",
       "    .dataframe thead th {\n",
       "        text-align: right;\n",
       "    }\n",
       "</style>\n",
       "<table border=\"1\" class=\"dataframe\">\n",
       "  <thead>\n",
       "    <tr style=\"text-align: right;\">\n",
       "      <th></th>\n",
       "      <th>Names</th>\n",
       "      <th>Age</th>\n",
       "      <th>City</th>\n",
       "    </tr>\n",
       "  </thead>\n",
       "  <tbody>\n",
       "    <tr>\n",
       "      <th>0</th>\n",
       "      <td>Ayush</td>\n",
       "      <td>25</td>\n",
       "      <td>hyd</td>\n",
       "    </tr>\n",
       "    <tr>\n",
       "      <th>1</th>\n",
       "      <td>Shivam</td>\n",
       "      <td>30</td>\n",
       "      <td>blr</td>\n",
       "    </tr>\n",
       "    <tr>\n",
       "      <th>2</th>\n",
       "      <td>Gourav</td>\n",
       "      <td>35</td>\n",
       "      <td>chennai</td>\n",
       "    </tr>\n",
       "  </tbody>\n",
       "</table>\n",
       "</div>"
      ],
      "text/plain": [
       "    Names  Age     City\n",
       "0   Ayush   25      hyd\n",
       "1  Shivam   30      blr\n",
       "2  Gourav   35  chennai"
      ]
     },
     "execution_count": 33,
     "metadata": {},
     "output_type": "execute_result"
    }
   ],
   "source": [
    "names=['Ayush', 'Shivam', 'Gourav']\n",
    "age=[25,30,35]\n",
    "city=['hyd', 'blr', 'chennai']\n",
    "\n",
    "data=zip(names,age,city)\n",
    "cols=['Names','Age','City']\n",
    "pd.DataFrame(data,columns=cols)"
   ]
  },
  {
   "cell_type": "code",
   "execution_count": 14,
   "id": "3420ff63-7441-41de-812a-ab15c5815354",
   "metadata": {},
   "outputs": [],
   "source": [
    "names=['Ayush', 'Shivam', 'Gourav']\n",
    "age=[25,30,35]\n",
    "city=['hyd', 'blr', 'chennai']\n",
    "\n",
    "data=zip(names,age,city)\n",
    "cols=['Names','Age','City']\n",
    "df=pd.DataFrame(data,columns=cols)"
   ]
  },
  {
   "cell_type": "code",
   "execution_count": 15,
   "id": "eb3473d8-e122-4b20-8633-3df29a0ef3fc",
   "metadata": {},
   "outputs": [
    {
     "data": {
      "text/plain": [
       "pandas.core.frame.DataFrame"
      ]
     },
     "execution_count": 15,
     "metadata": {},
     "output_type": "execute_result"
    }
   ],
   "source": [
    "type(df)"
   ]
  },
  {
   "cell_type": "markdown",
   "id": "5e58be3a-c785-45b2-8718-87b3bdcd2d9b",
   "metadata": {},
   "source": [
    "$Step-4$\n",
    "\n",
    "**ADD new column**"
   ]
  },
  {
   "cell_type": "markdown",
   "id": "8586fae3-0edb-4c80-8aea-7cf45e4e0db3",
   "metadata": {},
   "source": [
    "- If you want to add new column\n",
    "\n",
    "- First you need to check the number of rows in already existed data\n",
    "- For example in above the dataframe has 3 rows\n",
    "- You need to create a new list with 3 rows\n",
    "- that list equate to the data frame"
   ]
  },
  {
   "cell_type": "code",
   "execution_count": 16,
   "id": "1a4f1142-9b02-4259-8f05-859f1b46c2e6",
   "metadata": {},
   "outputs": [
    {
     "data": {
      "text/html": [
       "<div>\n",
       "<style scoped>\n",
       "    .dataframe tbody tr th:only-of-type {\n",
       "        vertical-align: middle;\n",
       "    }\n",
       "\n",
       "    .dataframe tbody tr th {\n",
       "        vertical-align: top;\n",
       "    }\n",
       "\n",
       "    .dataframe thead th {\n",
       "        text-align: right;\n",
       "    }\n",
       "</style>\n",
       "<table border=\"1\" class=\"dataframe\">\n",
       "  <thead>\n",
       "    <tr style=\"text-align: right;\">\n",
       "      <th></th>\n",
       "      <th>Names</th>\n",
       "      <th>Age</th>\n",
       "      <th>City</th>\n",
       "      <th>JOB</th>\n",
       "    </tr>\n",
       "  </thead>\n",
       "  <tbody>\n",
       "    <tr>\n",
       "      <th>0</th>\n",
       "      <td>Ayush</td>\n",
       "      <td>25</td>\n",
       "      <td>hyd</td>\n",
       "      <td>DS</td>\n",
       "    </tr>\n",
       "    <tr>\n",
       "      <th>1</th>\n",
       "      <td>Shivam</td>\n",
       "      <td>30</td>\n",
       "      <td>blr</td>\n",
       "      <td>DE</td>\n",
       "    </tr>\n",
       "    <tr>\n",
       "      <th>2</th>\n",
       "      <td>Gourav</td>\n",
       "      <td>35</td>\n",
       "      <td>chennai</td>\n",
       "      <td>CS</td>\n",
       "    </tr>\n",
       "  </tbody>\n",
       "</table>\n",
       "</div>"
      ],
      "text/plain": [
       "    Names  Age     City JOB\n",
       "0   Ayush   25      hyd  DS\n",
       "1  Shivam   30      blr  DE\n",
       "2  Gourav   35  chennai  CS"
      ]
     },
     "execution_count": 16,
     "metadata": {},
     "output_type": "execute_result"
    }
   ],
   "source": [
    "job=['DS','DE','CS']\n",
    "df['JOB']=job\n",
    "df"
   ]
  },
  {
   "cell_type": "code",
   "execution_count": 17,
   "id": "07e143d9-ebf5-401d-b795-2e856bf66587",
   "metadata": {},
   "outputs": [
    {
     "data": {
      "text/html": [
       "<div>\n",
       "<style scoped>\n",
       "    .dataframe tbody tr th:only-of-type {\n",
       "        vertical-align: middle;\n",
       "    }\n",
       "\n",
       "    .dataframe tbody tr th {\n",
       "        vertical-align: top;\n",
       "    }\n",
       "\n",
       "    .dataframe thead th {\n",
       "        text-align: right;\n",
       "    }\n",
       "</style>\n",
       "<table border=\"1\" class=\"dataframe\">\n",
       "  <thead>\n",
       "    <tr style=\"text-align: right;\">\n",
       "      <th></th>\n",
       "      <th>Names</th>\n",
       "      <th>Age</th>\n",
       "      <th>City</th>\n",
       "      <th>JOB</th>\n",
       "      <th>MOB</th>\n",
       "    </tr>\n",
       "  </thead>\n",
       "  <tbody>\n",
       "    <tr>\n",
       "      <th>0</th>\n",
       "      <td>Ayush</td>\n",
       "      <td>25</td>\n",
       "      <td>hyd</td>\n",
       "      <td>DS</td>\n",
       "      <td>9977048192</td>\n",
       "    </tr>\n",
       "    <tr>\n",
       "      <th>1</th>\n",
       "      <td>Shivam</td>\n",
       "      <td>30</td>\n",
       "      <td>blr</td>\n",
       "      <td>DE</td>\n",
       "      <td>9171245845</td>\n",
       "    </tr>\n",
       "    <tr>\n",
       "      <th>2</th>\n",
       "      <td>Gourav</td>\n",
       "      <td>35</td>\n",
       "      <td>chennai</td>\n",
       "      <td>CS</td>\n",
       "      <td>9575544266</td>\n",
       "    </tr>\n",
       "  </tbody>\n",
       "</table>\n",
       "</div>"
      ],
      "text/plain": [
       "    Names  Age     City JOB         MOB\n",
       "0   Ayush   25      hyd  DS  9977048192\n",
       "1  Shivam   30      blr  DE  9171245845\n",
       "2  Gourav   35  chennai  CS  9575544266"
      ]
     },
     "execution_count": 17,
     "metadata": {},
     "output_type": "execute_result"
    }
   ],
   "source": [
    "mob=[9977048192,9171245845,9575544266]\n",
    "df['MOB']=mob\n",
    "df"
   ]
  },
  {
   "cell_type": "markdown",
   "id": "4a2fdf2a-ccef-463f-9bef-1f8086558885",
   "metadata": {},
   "source": [
    "$Step-5$\n",
    "\n",
    "**Update the already existed columns**\n",
    "\n",
    "- Create new column and update new column both are same way"
   ]
  },
  {
   "cell_type": "code",
   "execution_count": 18,
   "id": "920a1884-5233-4fa5-a1e9-b95b3a370270",
   "metadata": {},
   "outputs": [
    {
     "data": {
      "text/html": [
       "<div>\n",
       "<style scoped>\n",
       "    .dataframe tbody tr th:only-of-type {\n",
       "        vertical-align: middle;\n",
       "    }\n",
       "\n",
       "    .dataframe tbody tr th {\n",
       "        vertical-align: top;\n",
       "    }\n",
       "\n",
       "    .dataframe thead th {\n",
       "        text-align: right;\n",
       "    }\n",
       "</style>\n",
       "<table border=\"1\" class=\"dataframe\">\n",
       "  <thead>\n",
       "    <tr style=\"text-align: right;\">\n",
       "      <th></th>\n",
       "      <th>Names</th>\n",
       "      <th>Age</th>\n",
       "      <th>City</th>\n",
       "      <th>JOB</th>\n",
       "      <th>MOB</th>\n",
       "    </tr>\n",
       "  </thead>\n",
       "  <tbody>\n",
       "    <tr>\n",
       "      <th>0</th>\n",
       "      <td>Ayush</td>\n",
       "      <td>35</td>\n",
       "      <td>hyd</td>\n",
       "      <td>DS</td>\n",
       "      <td>9977048192</td>\n",
       "    </tr>\n",
       "    <tr>\n",
       "      <th>1</th>\n",
       "      <td>Shivam</td>\n",
       "      <td>40</td>\n",
       "      <td>blr</td>\n",
       "      <td>DE</td>\n",
       "      <td>9171245845</td>\n",
       "    </tr>\n",
       "    <tr>\n",
       "      <th>2</th>\n",
       "      <td>Gourav</td>\n",
       "      <td>45</td>\n",
       "      <td>chennai</td>\n",
       "      <td>CS</td>\n",
       "      <td>9575544266</td>\n",
       "    </tr>\n",
       "  </tbody>\n",
       "</table>\n",
       "</div>"
      ],
      "text/plain": [
       "    Names  Age     City JOB         MOB\n",
       "0   Ayush   35      hyd  DS  9977048192\n",
       "1  Shivam   40      blr  DE  9171245845\n",
       "2  Gourav   45  chennai  CS  9575544266"
      ]
     },
     "execution_count": 18,
     "metadata": {},
     "output_type": "execute_result"
    }
   ],
   "source": [
    "df['Age']=[35,40,45]\n",
    "df"
   ]
  },
  {
   "cell_type": "markdown",
   "id": "fbf5fedf-72d0-493a-aa02-a6e94bbb7553",
   "metadata": {},
   "source": [
    "$Step-6$\n",
    "\n",
    "**Change the index**"
   ]
  },
  {
   "cell_type": "code",
   "execution_count": 19,
   "id": "ae6b8bd8-6bd1-42fb-9512-19607687917e",
   "metadata": {},
   "outputs": [
    {
     "data": {
      "text/html": [
       "<div>\n",
       "<style scoped>\n",
       "    .dataframe tbody tr th:only-of-type {\n",
       "        vertical-align: middle;\n",
       "    }\n",
       "\n",
       "    .dataframe tbody tr th {\n",
       "        vertical-align: top;\n",
       "    }\n",
       "\n",
       "    .dataframe thead th {\n",
       "        text-align: right;\n",
       "    }\n",
       "</style>\n",
       "<table border=\"1\" class=\"dataframe\">\n",
       "  <thead>\n",
       "    <tr style=\"text-align: right;\">\n",
       "      <th></th>\n",
       "      <th>Names</th>\n",
       "      <th>Age</th>\n",
       "      <th>City</th>\n",
       "    </tr>\n",
       "  </thead>\n",
       "  <tbody>\n",
       "    <tr>\n",
       "      <th>A</th>\n",
       "      <td>Ayush</td>\n",
       "      <td>25</td>\n",
       "      <td>hyd</td>\n",
       "    </tr>\n",
       "    <tr>\n",
       "      <th>B</th>\n",
       "      <td>Shivam</td>\n",
       "      <td>30</td>\n",
       "      <td>blr</td>\n",
       "    </tr>\n",
       "    <tr>\n",
       "      <th>C</th>\n",
       "      <td>Gourav</td>\n",
       "      <td>35</td>\n",
       "      <td>chennai</td>\n",
       "    </tr>\n",
       "    <tr>\n",
       "      <th>D</th>\n",
       "      <td>krishna</td>\n",
       "      <td>22</td>\n",
       "      <td>mumbai</td>\n",
       "    </tr>\n",
       "  </tbody>\n",
       "</table>\n",
       "</div>"
      ],
      "text/plain": [
       "     Names  Age     City\n",
       "A    Ayush   25      hyd\n",
       "B   Shivam   30      blr\n",
       "C   Gourav   35  chennai\n",
       "D  krishna   22   mumbai"
      ]
     },
     "execution_count": 19,
     "metadata": {},
     "output_type": "execute_result"
    }
   ],
   "source": [
    "import pandas as pd\n",
    "names=['Ayush', 'Shivam', 'Gourav','krishna']\n",
    "age=[25,30,35,22]\n",
    "city=['hyd','blr','chennai','mumbai']\n",
    "\n",
    "data=zip(names,age,city)\n",
    "cols=['Names','Age','City']\n",
    "idx=['A','B','C','D']\n",
    "df=pd.DataFrame(data,\n",
    "                index=idx,\n",
    "                columns=cols)\n",
    "df"
   ]
  },
  {
   "cell_type": "markdown",
   "id": "e0020759-bcec-4433-b35f-45587d64c031",
   "metadata": {},
   "source": [
    "**Note**\n",
    "\n",
    "- Number of list equals  to **Number of columns**\n",
    "\n",
    "- Number of values inside list equals to **Number of rows**\n",
    " \n",
    "- When you create the data all the lists will be of same length"
   ]
  },
  {
   "cell_type": "markdown",
   "id": "6c002646-950c-40be-ab1e-2b38234ca7ca",
   "metadata": {},
   "source": [
    "$Step-7$\n",
    "\n",
    "**Shape**\n",
    "\n",
    "- Number of rows\n",
    "\n",
    "- Number of columns"
   ]
  },
  {
   "cell_type": "code",
   "execution_count": 20,
   "id": "6875b395-c270-476d-957d-bd3efe19dd2b",
   "metadata": {},
   "outputs": [
    {
     "name": "stdout",
     "output_type": "stream",
     "text": [
      "The number of rows are: 4\n",
      "The number of columns are: 3\n"
     ]
    }
   ],
   "source": [
    "df.shape\n",
    "# Matrix format\n",
    "# 4 rows and 3 columns\n",
    "print(\"The number of rows are:\",df.shape[0])\n",
    "print(\"The number of columns are:\",df.shape[1])"
   ]
  },
  {
   "cell_type": "markdown",
   "id": "eb2f9153-3ffe-4caf-8545-79291d7846db",
   "metadata": {},
   "source": [
    "$Step-8$\n",
    "\n",
    "**Drop the column**\n",
    "\n",
    "- In order to drop column we required 3 arguments \n",
    "\n",
    "- Column name\n",
    "\n",
    "   - The column name we need to mention\n",
    "\n",
    "- axis\n",
    "\n",
    "    - axis=0  **represents rows**\n",
    "\n",
    "    - axis=1  **represents columns**\n",
    "\n",
    "- inplace\n",
    "\n",
    "   - We are drop column means we are modifying the dataframe\n",
    "\n",
    "   - so this modifications we want to save in same variable or different variable\n",
    "\n",
    "   - if you want to keep in the same variable the **inplace-True**"
   ]
  },
  {
   "cell_type": "code",
   "execution_count": 21,
   "id": "45578e3c-6848-4d4c-94c9-de25638e4126",
   "metadata": {},
   "outputs": [
    {
     "data": {
      "text/html": [
       "<div>\n",
       "<style scoped>\n",
       "    .dataframe tbody tr th:only-of-type {\n",
       "        vertical-align: middle;\n",
       "    }\n",
       "\n",
       "    .dataframe tbody tr th {\n",
       "        vertical-align: top;\n",
       "    }\n",
       "\n",
       "    .dataframe thead th {\n",
       "        text-align: right;\n",
       "    }\n",
       "</style>\n",
       "<table border=\"1\" class=\"dataframe\">\n",
       "  <thead>\n",
       "    <tr style=\"text-align: right;\">\n",
       "      <th></th>\n",
       "      <th>Names</th>\n",
       "      <th>Age</th>\n",
       "      <th>City</th>\n",
       "    </tr>\n",
       "  </thead>\n",
       "  <tbody>\n",
       "    <tr>\n",
       "      <th>A</th>\n",
       "      <td>Ayush</td>\n",
       "      <td>25</td>\n",
       "      <td>hyd</td>\n",
       "    </tr>\n",
       "    <tr>\n",
       "      <th>B</th>\n",
       "      <td>Shivam</td>\n",
       "      <td>30</td>\n",
       "      <td>blr</td>\n",
       "    </tr>\n",
       "    <tr>\n",
       "      <th>C</th>\n",
       "      <td>Gourav</td>\n",
       "      <td>35</td>\n",
       "      <td>chennai</td>\n",
       "    </tr>\n",
       "    <tr>\n",
       "      <th>D</th>\n",
       "      <td>krishna</td>\n",
       "      <td>22</td>\n",
       "      <td>mumbai</td>\n",
       "    </tr>\n",
       "  </tbody>\n",
       "</table>\n",
       "</div>"
      ],
      "text/plain": [
       "     Names  Age     City\n",
       "A    Ayush   25      hyd\n",
       "B   Shivam   30      blr\n",
       "C   Gourav   35  chennai\n",
       "D  krishna   22   mumbai"
      ]
     },
     "execution_count": 21,
     "metadata": {},
     "output_type": "execute_result"
    }
   ],
   "source": [
    "df"
   ]
  },
  {
   "cell_type": "code",
   "execution_count": 22,
   "id": "a61cef60-bdec-4a04-96cd-745c210c39ef",
   "metadata": {},
   "outputs": [],
   "source": [
    "df.drop('City',\n",
    "        axis=1,\n",
    "        inplace=True)"
   ]
  },
  {
   "cell_type": "code",
   "execution_count": 23,
   "id": "5ab6d71d-6c88-4e17-97d6-4a112e57cb45",
   "metadata": {},
   "outputs": [
    {
     "data": {
      "text/html": [
       "<div>\n",
       "<style scoped>\n",
       "    .dataframe tbody tr th:only-of-type {\n",
       "        vertical-align: middle;\n",
       "    }\n",
       "\n",
       "    .dataframe tbody tr th {\n",
       "        vertical-align: top;\n",
       "    }\n",
       "\n",
       "    .dataframe thead th {\n",
       "        text-align: right;\n",
       "    }\n",
       "</style>\n",
       "<table border=\"1\" class=\"dataframe\">\n",
       "  <thead>\n",
       "    <tr style=\"text-align: right;\">\n",
       "      <th></th>\n",
       "      <th>Names</th>\n",
       "      <th>Age</th>\n",
       "    </tr>\n",
       "  </thead>\n",
       "  <tbody>\n",
       "    <tr>\n",
       "      <th>A</th>\n",
       "      <td>Ayush</td>\n",
       "      <td>25</td>\n",
       "    </tr>\n",
       "    <tr>\n",
       "      <th>B</th>\n",
       "      <td>Shivam</td>\n",
       "      <td>30</td>\n",
       "    </tr>\n",
       "    <tr>\n",
       "      <th>C</th>\n",
       "      <td>Gourav</td>\n",
       "      <td>35</td>\n",
       "    </tr>\n",
       "    <tr>\n",
       "      <th>D</th>\n",
       "      <td>krishna</td>\n",
       "      <td>22</td>\n",
       "    </tr>\n",
       "  </tbody>\n",
       "</table>\n",
       "</div>"
      ],
      "text/plain": [
       "     Names  Age\n",
       "A    Ayush   25\n",
       "B   Shivam   30\n",
       "C   Gourav   35\n",
       "D  krishna   22"
      ]
     },
     "execution_count": 23,
     "metadata": {},
     "output_type": "execute_result"
    }
   ],
   "source": [
    "df"
   ]
  },
  {
   "cell_type": "code",
   "execution_count": 24,
   "id": "88a4ebd7-7ff4-4a1c-ae33-ed9c4d99748e",
   "metadata": {},
   "outputs": [],
   "source": [
    "df1=df.drop('Age',\n",
    "        axis=1)  #do not give inplace=True"
   ]
  },
  {
   "cell_type": "code",
   "execution_count": 25,
   "id": "004694a1-54f4-4404-9ed7-d8c70025d9d2",
   "metadata": {},
   "outputs": [
    {
     "data": {
      "text/html": [
       "<div>\n",
       "<style scoped>\n",
       "    .dataframe tbody tr th:only-of-type {\n",
       "        vertical-align: middle;\n",
       "    }\n",
       "\n",
       "    .dataframe tbody tr th {\n",
       "        vertical-align: top;\n",
       "    }\n",
       "\n",
       "    .dataframe thead th {\n",
       "        text-align: right;\n",
       "    }\n",
       "</style>\n",
       "<table border=\"1\" class=\"dataframe\">\n",
       "  <thead>\n",
       "    <tr style=\"text-align: right;\">\n",
       "      <th></th>\n",
       "      <th>Names</th>\n",
       "      <th>Age</th>\n",
       "    </tr>\n",
       "  </thead>\n",
       "  <tbody>\n",
       "    <tr>\n",
       "      <th>A</th>\n",
       "      <td>Ayush</td>\n",
       "      <td>25</td>\n",
       "    </tr>\n",
       "    <tr>\n",
       "      <th>B</th>\n",
       "      <td>Shivam</td>\n",
       "      <td>30</td>\n",
       "    </tr>\n",
       "    <tr>\n",
       "      <th>C</th>\n",
       "      <td>Gourav</td>\n",
       "      <td>35</td>\n",
       "    </tr>\n",
       "    <tr>\n",
       "      <th>D</th>\n",
       "      <td>krishna</td>\n",
       "      <td>22</td>\n",
       "    </tr>\n",
       "  </tbody>\n",
       "</table>\n",
       "</div>"
      ],
      "text/plain": [
       "     Names  Age\n",
       "A    Ayush   25\n",
       "B   Shivam   30\n",
       "C   Gourav   35\n",
       "D  krishna   22"
      ]
     },
     "execution_count": 25,
     "metadata": {},
     "output_type": "execute_result"
    }
   ],
   "source": [
    "df # has has 4 columns"
   ]
  },
  {
   "cell_type": "code",
   "execution_count": 26,
   "id": "f8e61993-13fc-4302-9049-531657d8de43",
   "metadata": {},
   "outputs": [
    {
     "data": {
      "text/html": [
       "<div>\n",
       "<style scoped>\n",
       "    .dataframe tbody tr th:only-of-type {\n",
       "        vertical-align: middle;\n",
       "    }\n",
       "\n",
       "    .dataframe tbody tr th {\n",
       "        vertical-align: top;\n",
       "    }\n",
       "\n",
       "    .dataframe thead th {\n",
       "        text-align: right;\n",
       "    }\n",
       "</style>\n",
       "<table border=\"1\" class=\"dataframe\">\n",
       "  <thead>\n",
       "    <tr style=\"text-align: right;\">\n",
       "      <th></th>\n",
       "      <th>Names</th>\n",
       "    </tr>\n",
       "  </thead>\n",
       "  <tbody>\n",
       "    <tr>\n",
       "      <th>A</th>\n",
       "      <td>Ayush</td>\n",
       "    </tr>\n",
       "    <tr>\n",
       "      <th>B</th>\n",
       "      <td>Shivam</td>\n",
       "    </tr>\n",
       "    <tr>\n",
       "      <th>C</th>\n",
       "      <td>Gourav</td>\n",
       "    </tr>\n",
       "    <tr>\n",
       "      <th>D</th>\n",
       "      <td>krishna</td>\n",
       "    </tr>\n",
       "  </tbody>\n",
       "</table>\n",
       "</div>"
      ],
      "text/plain": [
       "     Names\n",
       "A    Ayush\n",
       "B   Shivam\n",
       "C   Gourav\n",
       "D  krishna"
      ]
     },
     "execution_count": 26,
     "metadata": {},
     "output_type": "execute_result"
    }
   ],
   "source": [
    "df1"
   ]
  },
  {
   "cell_type": "code",
   "execution_count": null,
   "id": "62fc196c-0583-4791-a07e-a65e05757576",
   "metadata": {},
   "outputs": [],
   "source": []
  },
  {
   "cell_type": "code",
   "execution_count": 27,
   "id": "952500cf-a4ef-4e47-8edd-0dca463022a2",
   "metadata": {},
   "outputs": [
    {
     "data": {
      "text/html": [
       "<div>\n",
       "<style scoped>\n",
       "    .dataframe tbody tr th:only-of-type {\n",
       "        vertical-align: middle;\n",
       "    }\n",
       "\n",
       "    .dataframe tbody tr th {\n",
       "        vertical-align: top;\n",
       "    }\n",
       "\n",
       "    .dataframe thead th {\n",
       "        text-align: right;\n",
       "    }\n",
       "</style>\n",
       "<table border=\"1\" class=\"dataframe\">\n",
       "  <thead>\n",
       "    <tr style=\"text-align: right;\">\n",
       "      <th></th>\n",
       "      <th>Names</th>\n",
       "      <th>Age</th>\n",
       "      <th>City</th>\n",
       "    </tr>\n",
       "  </thead>\n",
       "  <tbody>\n",
       "    <tr>\n",
       "      <th>A</th>\n",
       "      <td>Ayush</td>\n",
       "      <td>25</td>\n",
       "      <td>hyd</td>\n",
       "    </tr>\n",
       "    <tr>\n",
       "      <th>B</th>\n",
       "      <td>Shivam</td>\n",
       "      <td>30</td>\n",
       "      <td>blr</td>\n",
       "    </tr>\n",
       "    <tr>\n",
       "      <th>C</th>\n",
       "      <td>Gourav</td>\n",
       "      <td>35</td>\n",
       "      <td>chennai</td>\n",
       "    </tr>\n",
       "  </tbody>\n",
       "</table>\n",
       "</div>"
      ],
      "text/plain": [
       "    Names  Age     City\n",
       "A   Ayush   25      hyd\n",
       "B  Shivam   30      blr\n",
       "C  Gourav   35  chennai"
      ]
     },
     "execution_count": 27,
     "metadata": {},
     "output_type": "execute_result"
    }
   ],
   "source": [
    "import pandas as pd\n",
    "names=['Ayush', 'Shivam', 'Gourav']\n",
    "age=[25,30,35]\n",
    "city=['hyd','blr','chennai']\n",
    "\n",
    "data=zip(names,age,city)\n",
    "cols=['Names','Age','City']\n",
    "idx=['A','B','C']\n",
    "df=pd.DataFrame(data,index=idx,columns=cols)\n",
    "df"
   ]
  },
  {
   "cell_type": "markdown",
   "id": "4de8fabd-477a-436e-b037-659056fb8722",
   "metadata": {},
   "source": [
    "$Step-9$-\n",
    "\n",
    "**Multiple columns drop**"
   ]
  },
  {
   "cell_type": "code",
   "execution_count": 28,
   "id": "da8ecc57-ebcd-4984-8100-9bcb6fe97721",
   "metadata": {},
   "outputs": [
    {
     "data": {
      "text/html": [
       "<div>\n",
       "<style scoped>\n",
       "    .dataframe tbody tr th:only-of-type {\n",
       "        vertical-align: middle;\n",
       "    }\n",
       "\n",
       "    .dataframe tbody tr th {\n",
       "        vertical-align: top;\n",
       "    }\n",
       "\n",
       "    .dataframe thead th {\n",
       "        text-align: right;\n",
       "    }\n",
       "</style>\n",
       "<table border=\"1\" class=\"dataframe\">\n",
       "  <thead>\n",
       "    <tr style=\"text-align: right;\">\n",
       "      <th></th>\n",
       "      <th>Names</th>\n",
       "      <th>Age</th>\n",
       "      <th>City</th>\n",
       "    </tr>\n",
       "  </thead>\n",
       "  <tbody>\n",
       "    <tr>\n",
       "      <th>A</th>\n",
       "      <td>Ayush</td>\n",
       "      <td>25</td>\n",
       "      <td>hyd</td>\n",
       "    </tr>\n",
       "    <tr>\n",
       "      <th>B</th>\n",
       "      <td>Shivam</td>\n",
       "      <td>30</td>\n",
       "      <td>blr</td>\n",
       "    </tr>\n",
       "    <tr>\n",
       "      <th>C</th>\n",
       "      <td>Gourav</td>\n",
       "      <td>35</td>\n",
       "      <td>chennai</td>\n",
       "    </tr>\n",
       "  </tbody>\n",
       "</table>\n",
       "</div>"
      ],
      "text/plain": [
       "    Names  Age     City\n",
       "A   Ayush   25      hyd\n",
       "B  Shivam   30      blr\n",
       "C  Gourav   35  chennai"
      ]
     },
     "execution_count": 28,
     "metadata": {},
     "output_type": "execute_result"
    }
   ],
   "source": [
    "# again read the data\n",
    "import pandas as pd\n",
    "\n",
    "names=['Ayush', 'Shivam', 'Gourav']\n",
    "age=[25,30,35]\n",
    "city=['hyd','blr','chennai']\n",
    "\n",
    "data=zip(names,age,city)\n",
    "cols=['Names','Age','City']\n",
    "idx=['A','B','C']\n",
    "\n",
    "df=pd.DataFrame(data,\n",
    "                index=idx,\n",
    "                columns=cols)\n",
    "df"
   ]
  },
  {
   "cell_type": "code",
   "execution_count": 29,
   "id": "8ac25bc2-7234-4819-bbcf-3c270a5ab441",
   "metadata": {},
   "outputs": [
    {
     "data": {
      "text/html": [
       "<div>\n",
       "<style scoped>\n",
       "    .dataframe tbody tr th:only-of-type {\n",
       "        vertical-align: middle;\n",
       "    }\n",
       "\n",
       "    .dataframe tbody tr th {\n",
       "        vertical-align: top;\n",
       "    }\n",
       "\n",
       "    .dataframe thead th {\n",
       "        text-align: right;\n",
       "    }\n",
       "</style>\n",
       "<table border=\"1\" class=\"dataframe\">\n",
       "  <thead>\n",
       "    <tr style=\"text-align: right;\">\n",
       "      <th></th>\n",
       "      <th>Names</th>\n",
       "    </tr>\n",
       "  </thead>\n",
       "  <tbody>\n",
       "    <tr>\n",
       "      <th>A</th>\n",
       "      <td>Ayush</td>\n",
       "    </tr>\n",
       "    <tr>\n",
       "      <th>B</th>\n",
       "      <td>Shivam</td>\n",
       "    </tr>\n",
       "    <tr>\n",
       "      <th>C</th>\n",
       "      <td>Gourav</td>\n",
       "    </tr>\n",
       "  </tbody>\n",
       "</table>\n",
       "</div>"
      ],
      "text/plain": [
       "    Names\n",
       "A   Ayush\n",
       "B  Shivam\n",
       "C  Gourav"
      ]
     },
     "execution_count": 29,
     "metadata": {},
     "output_type": "execute_result"
    }
   ],
   "source": [
    "df.drop(['Age','City'],axis=1,inplace=True)\n",
    "df"
   ]
  },
  {
   "cell_type": "markdown",
   "id": "a6284b2b-94a8-4d14-848b-ed9e2e8b946d",
   "metadata": {},
   "source": [
    "$Step-10$\n",
    "\n",
    "**Drop the rows**"
   ]
  },
  {
   "cell_type": "code",
   "execution_count": 30,
   "id": "051146dc-0ac2-4da3-86ff-420ee36f8af9",
   "metadata": {},
   "outputs": [
    {
     "data": {
      "text/html": [
       "<div>\n",
       "<style scoped>\n",
       "    .dataframe tbody tr th:only-of-type {\n",
       "        vertical-align: middle;\n",
       "    }\n",
       "\n",
       "    .dataframe tbody tr th {\n",
       "        vertical-align: top;\n",
       "    }\n",
       "\n",
       "    .dataframe thead th {\n",
       "        text-align: right;\n",
       "    }\n",
       "</style>\n",
       "<table border=\"1\" class=\"dataframe\">\n",
       "  <thead>\n",
       "    <tr style=\"text-align: right;\">\n",
       "      <th></th>\n",
       "      <th>Names</th>\n",
       "      <th>Age</th>\n",
       "      <th>City</th>\n",
       "    </tr>\n",
       "  </thead>\n",
       "  <tbody>\n",
       "    <tr>\n",
       "      <th>A</th>\n",
       "      <td>Ayush</td>\n",
       "      <td>25</td>\n",
       "      <td>hyd</td>\n",
       "    </tr>\n",
       "    <tr>\n",
       "      <th>B</th>\n",
       "      <td>Shivam</td>\n",
       "      <td>30</td>\n",
       "      <td>blr</td>\n",
       "    </tr>\n",
       "    <tr>\n",
       "      <th>C</th>\n",
       "      <td>Gourav</td>\n",
       "      <td>35</td>\n",
       "      <td>chennai</td>\n",
       "    </tr>\n",
       "  </tbody>\n",
       "</table>\n",
       "</div>"
      ],
      "text/plain": [
       "    Names  Age     City\n",
       "A   Ayush   25      hyd\n",
       "B  Shivam   30      blr\n",
       "C  Gourav   35  chennai"
      ]
     },
     "execution_count": 30,
     "metadata": {},
     "output_type": "execute_result"
    }
   ],
   "source": [
    "# again read the data\n",
    "import pandas as pd\n",
    "\n",
    "names=['Ayush', 'Shivam', 'Gourav']\n",
    "age=[25,30,35]\n",
    "city=['hyd','blr','chennai']\n",
    "\n",
    "data=zip(names,age,city)\n",
    "cols=['Names','Age','City']\n",
    "idx=['A','B','C']\n",
    "\n",
    "df=pd.DataFrame(data,\n",
    "                index=idx,\n",
    "                columns=cols)\n",
    "df"
   ]
  },
  {
   "cell_type": "code",
   "execution_count": 31,
   "id": "aa272edd-3858-4d38-a5be-1651b6614426",
   "metadata": {},
   "outputs": [
    {
     "data": {
      "text/html": [
       "<div>\n",
       "<style scoped>\n",
       "    .dataframe tbody tr th:only-of-type {\n",
       "        vertical-align: middle;\n",
       "    }\n",
       "\n",
       "    .dataframe tbody tr th {\n",
       "        vertical-align: top;\n",
       "    }\n",
       "\n",
       "    .dataframe thead th {\n",
       "        text-align: right;\n",
       "    }\n",
       "</style>\n",
       "<table border=\"1\" class=\"dataframe\">\n",
       "  <thead>\n",
       "    <tr style=\"text-align: right;\">\n",
       "      <th></th>\n",
       "      <th>Names</th>\n",
       "      <th>Age</th>\n",
       "      <th>City</th>\n",
       "    </tr>\n",
       "  </thead>\n",
       "  <tbody>\n",
       "    <tr>\n",
       "      <th>B</th>\n",
       "      <td>Shivam</td>\n",
       "      <td>30</td>\n",
       "      <td>blr</td>\n",
       "    </tr>\n",
       "    <tr>\n",
       "      <th>C</th>\n",
       "      <td>Gourav</td>\n",
       "      <td>35</td>\n",
       "      <td>chennai</td>\n",
       "    </tr>\n",
       "  </tbody>\n",
       "</table>\n",
       "</div>"
      ],
      "text/plain": [
       "    Names  Age     City\n",
       "B  Shivam   30      blr\n",
       "C  Gourav   35  chennai"
      ]
     },
     "execution_count": 31,
     "metadata": {},
     "output_type": "execute_result"
    }
   ],
   "source": [
    "df.drop('A',axis=0,inplace=True)\n",
    "df"
   ]
  },
  {
   "cell_type": "markdown",
   "id": "8a66c4ac-01ae-40c4-bfa0-89a309319caa",
   "metadata": {},
   "source": [
    "$Step-11$\n",
    "\n",
    "**How to save the data frame**\n",
    "\n",
    "- Generally data frames are of two types\n",
    "\n",
    "- csv(Comma seperated value)\n",
    "\n",
    "- excel"
   ]
  },
  {
   "cell_type": "code",
   "execution_count": 47,
   "id": "fa358ebf-7126-4c93-a4a1-e8b02a0f216d",
   "metadata": {},
   "outputs": [],
   "source": [
    "# file name =data\n",
    "# extension=.csv\n",
    "df.to_csv('data.csv')\n",
    "df.to_csv('data1.csv',index=False)"
   ]
  },
  {
   "cell_type": "code",
   "execution_count": 46,
   "id": "aad9b507-2c24-4a7f-977e-522520cabb23",
   "metadata": {},
   "outputs": [],
   "source": [
    "# Extension\n",
    "# .xlsx\n",
    "df.to_excel(\"data2.xlsx\",index=False)"
   ]
  },
  {
   "cell_type": "code",
   "execution_count": null,
   "id": "b4eafcfe-3e62-4011-ac30-759659477030",
   "metadata": {},
   "outputs": [],
   "source": []
  }
 ],
 "metadata": {
  "kernelspec": {
   "display_name": "Python 3 (ipykernel)",
   "language": "python",
   "name": "python3"
  },
  "language_info": {
   "codemirror_mode": {
    "name": "ipython",
    "version": 3
   },
   "file_extension": ".py",
   "mimetype": "text/x-python",
   "name": "python",
   "nbconvert_exporter": "python",
   "pygments_lexer": "ipython3",
   "version": "3.11.7"
  }
 },
 "nbformat": 4,
 "nbformat_minor": 5
}
